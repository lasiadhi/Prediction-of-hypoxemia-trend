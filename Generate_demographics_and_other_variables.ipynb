{
  "nbformat": 4,
  "nbformat_minor": 0,
  "metadata": {
    "colab": {
      "name": "Generate_demographics_and_other_variables.ipynb",
      "provenance": [],
      "collapsed_sections": [],
      "include_colab_link": true
    },
    "kernelspec": {
      "name": "python3",
      "display_name": "Python 3"
    }
  },
  "cells": [
    {
      "cell_type": "markdown",
      "metadata": {
        "id": "view-in-github",
        "colab_type": "text"
      },
      "source": [
        "<a href=\"https://colab.research.google.com/github/lasiadhi/Prediction-of-hypoxemia-trend/blob/master/Generate_demographics_and_other_variables.ipynb\" target=\"_parent\"><img src=\"https://colab.research.google.com/assets/colab-badge.svg\" alt=\"Open In Colab\"/></a>"
      ]
    },
    {
      "cell_type": "code",
      "metadata": {
        "id": "qcWfyKsrAXfE",
        "colab_type": "code",
        "colab": {}
      },
      "source": [
        "#################################################\n",
        "###### @author: Lasith Adhikari (python 3)  #####\n",
        "############ Created on Nov 27, 2019 ############\n",
        "# Code description: \n",
        "# Generate demographics and other variables"
      ],
      "execution_count": 0,
      "outputs": []
    },
    {
      "cell_type": "code",
      "metadata": {
        "id": "hChKYQ8_AoyW",
        "colab_type": "code",
        "colab": {
          "base_uri": "https://localhost:8080/",
          "height": 63
        },
        "outputId": "e7d72afd-4112-441e-a317-8f8f678d56ce"
      },
      "source": [
        "# Import libraries\n",
        "import numpy as np\n",
        "import os\n",
        "import pandas as pd\n",
        "import matplotlib.pyplot as plt\n",
        "import matplotlib.patches as patches\n",
        "import matplotlib.path as path\n",
        "import tensorflow as tf\n",
        "\n",
        "# Below imports are used to print out pretty pandas dataframes\n",
        "from IPython.display import display, HTML\n",
        "\n",
        "# Imports for accessing Datathon data using Google BigQuery.\n",
        "from google.colab import auth\n",
        "from google.cloud import bigquery"
      ],
      "execution_count": 2,
      "outputs": [
        {
          "output_type": "display_data",
          "data": {
            "text/html": [
              "<p style=\"color: red;\">\n",
              "The default version of TensorFlow in Colab will soon switch to TensorFlow 2.x.<br>\n",
              "We recommend you <a href=\"https://www.tensorflow.org/guide/migrate\" target=\"_blank\">upgrade</a> now \n",
              "or ensure your notebook will continue to use TensorFlow 1.x via the <code>%tensorflow_version 1.x</code> magic:\n",
              "<a href=\"https://colab.research.google.com/notebooks/tensorflow_version.ipynb\" target=\"_blank\">more info</a>.</p>\n"
            ],
            "text/plain": [
              "<IPython.core.display.HTML object>"
            ]
          },
          "metadata": {
            "tags": []
          }
        }
      ]
    },
    {
      "cell_type": "code",
      "metadata": {
        "id": "WUT3RRVxArAo",
        "colab_type": "code",
        "colab": {}
      },
      "source": [
        "from google.colab import files\n",
        "import seaborn as sns\n",
        "import pickle\n",
        "import matplotlib.pyplot as plt \n",
        "pd.options.display.max_columns = 200\n",
        "pd.options.display.max_rows = 200"
      ],
      "execution_count": 0,
      "outputs": []
    },
    {
      "cell_type": "code",
      "metadata": {
        "id": "Z-2h1M5DAs2d",
        "colab_type": "code",
        "colab": {}
      },
      "source": [
        "auth.authenticate_user()"
      ],
      "execution_count": 0,
      "outputs": []
    },
    {
      "cell_type": "code",
      "metadata": {
        "id": "a-00FdcTAumJ",
        "colab_type": "code",
        "colab": {}
      },
      "source": [
        "# Note that this should be the project for the datathon work,\n",
        "# not the physionet-data project which is for data hosting.\n",
        "project_id = 'hst-953-2019'\n",
        "os.environ['GOOGLE_CLOUD_PROJECT'] = project_id"
      ],
      "execution_count": 0,
      "outputs": []
    },
    {
      "cell_type": "code",
      "metadata": {
        "id": "0hdW-GgkA18l",
        "colab_type": "code",
        "colab": {}
      },
      "source": [
        "# Read data from BigQuery into pandas dataframes.\n",
        "def run_query(query):\n",
        "  return pd.io.gbq.read_gbq(\n",
        "      query,\n",
        "      project_id=project_id,\n",
        "      dialect='standard')"
      ],
      "execution_count": 0,
      "outputs": []
    },
    {
      "cell_type": "code",
      "metadata": {
        "id": "EGVuMLXlA4LI",
        "colab_type": "code",
        "colab": {
          "base_uri": "https://localhost:8080/",
          "height": 122
        },
        "outputId": "92559a36-97a1-42e5-bc6d-7745c7989622"
      },
      "source": [
        "\n",
        "from google.colab import drive\n",
        "drive.mount('/content/drive')"
      ],
      "execution_count": 7,
      "outputs": [
        {
          "output_type": "stream",
          "text": [
            "Go to this URL in a browser: https://accounts.google.com/o/oauth2/auth?client_id=947318989803-6bn6qk8qdgf4n4g3pfee6491hc0brc4i.apps.googleusercontent.com&redirect_uri=urn%3aietf%3awg%3aoauth%3a2.0%3aoob&response_type=code&scope=email%20https%3a%2f%2fwww.googleapis.com%2fauth%2fdocs.test%20https%3a%2f%2fwww.googleapis.com%2fauth%2fdrive%20https%3a%2f%2fwww.googleapis.com%2fauth%2fdrive.photos.readonly%20https%3a%2f%2fwww.googleapis.com%2fauth%2fpeopleapi.readonly\n",
            "\n",
            "Enter your authorization code:\n",
            "··········\n",
            "Mounted at /content/drive\n"
          ],
          "name": "stdout"
        }
      ]
    },
    {
      "cell_type": "code",
      "metadata": {
        "id": "cVtNRfDJA59D",
        "colab_type": "code",
        "colab": {}
      },
      "source": [
        "# read ICU IV start times:\n",
        "first_icuid_dict = pickle.load(open(\"/content/drive/My Drive/Colab Notebooks/data/IV_LOS24_adult_firstICU_dict.pkl\", \"rb\" ) )"
      ],
      "execution_count": 0,
      "outputs": []
    },
    {
      "cell_type": "code",
      "metadata": {
        "id": "ygtBIESPA--Q",
        "colab_type": "code",
        "colab": {
          "base_uri": "https://localhost:8080/",
          "height": 34
        },
        "outputId": "43063719-564f-4198-8625-53eddfea696c"
      },
      "source": [
        "len(first_icuid_dict.keys())"
      ],
      "execution_count": 9,
      "outputs": [
        {
          "output_type": "execute_result",
          "data": {
            "text/plain": [
              "38823"
            ]
          },
          "metadata": {
            "tags": []
          },
          "execution_count": 9
        }
      ]
    },
    {
      "cell_type": "code",
      "metadata": {
        "id": "y26r7B_ZBEYa",
        "colab_type": "code",
        "colab": {}
      },
      "source": [
        ""
      ],
      "execution_count": 0,
      "outputs": []
    },
    {
      "cell_type": "markdown",
      "metadata": {
        "id": "3pRemYcdBHJX",
        "colab_type": "text"
      },
      "source": [
        "## Read patient deom and admission related data"
      ]
    },
    {
      "cell_type": "code",
      "metadata": {
        "id": "5zbO5DTkBIs_",
        "colab_type": "code",
        "colab": {}
      },
      "source": [
        "df_patient = run_query(\"\"\"\n",
        "select patientunitstayid, gender, age, ethnicity, hospitalid, wardid, admissionheight,admissionweight, hospitaladmitsource, unittype, unitstaytype \n",
        "from `physionet-data.eicu_crd.patient`\n",
        "\"\"\"\n",
        ")"
      ],
      "execution_count": 0,
      "outputs": []
    },
    {
      "cell_type": "code",
      "metadata": {
        "id": "wbKwcxTMCZMO",
        "colab_type": "code",
        "colab": {
          "base_uri": "https://localhost:8080/",
          "height": 204
        },
        "outputId": "860dce8b-35fe-4d58-e8f6-43e087c4f4fd"
      },
      "source": [
        "df_patient.head()"
      ],
      "execution_count": 11,
      "outputs": [
        {
          "output_type": "execute_result",
          "data": {
            "text/html": [
              "<div>\n",
              "<style scoped>\n",
              "    .dataframe tbody tr th:only-of-type {\n",
              "        vertical-align: middle;\n",
              "    }\n",
              "\n",
              "    .dataframe tbody tr th {\n",
              "        vertical-align: top;\n",
              "    }\n",
              "\n",
              "    .dataframe thead th {\n",
              "        text-align: right;\n",
              "    }\n",
              "</style>\n",
              "<table border=\"1\" class=\"dataframe\">\n",
              "  <thead>\n",
              "    <tr style=\"text-align: right;\">\n",
              "      <th></th>\n",
              "      <th>patientunitstayid</th>\n",
              "      <th>gender</th>\n",
              "      <th>age</th>\n",
              "      <th>ethnicity</th>\n",
              "      <th>hospitalid</th>\n",
              "      <th>wardid</th>\n",
              "      <th>admissionheight</th>\n",
              "      <th>admissionweight</th>\n",
              "      <th>hospitaladmitsource</th>\n",
              "      <th>unittype</th>\n",
              "      <th>unitstaytype</th>\n",
              "    </tr>\n",
              "  </thead>\n",
              "  <tbody>\n",
              "    <tr>\n",
              "      <th>0</th>\n",
              "      <td>1137569</td>\n",
              "      <td>Female</td>\n",
              "      <td>75</td>\n",
              "      <td>Other/Unknown</td>\n",
              "      <td>208</td>\n",
              "      <td>513</td>\n",
              "      <td>172.7</td>\n",
              "      <td>95.7</td>\n",
              "      <td>Acute Care/Floor</td>\n",
              "      <td>MICU</td>\n",
              "      <td>readmit</td>\n",
              "    </tr>\n",
              "    <tr>\n",
              "      <th>1</th>\n",
              "      <td>3036927</td>\n",
              "      <td>Male</td>\n",
              "      <td>51</td>\n",
              "      <td>Caucasian</td>\n",
              "      <td>420</td>\n",
              "      <td>1026</td>\n",
              "      <td>177.8</td>\n",
              "      <td>NaN</td>\n",
              "      <td>Emergency Department</td>\n",
              "      <td>Med-Surg ICU</td>\n",
              "      <td>admit</td>\n",
              "    </tr>\n",
              "    <tr>\n",
              "      <th>2</th>\n",
              "      <td>3058863</td>\n",
              "      <td>Female</td>\n",
              "      <td>31</td>\n",
              "      <td>Caucasian</td>\n",
              "      <td>420</td>\n",
              "      <td>1026</td>\n",
              "      <td>162.6</td>\n",
              "      <td>NaN</td>\n",
              "      <td>Emergency Department</td>\n",
              "      <td>Med-Surg ICU</td>\n",
              "      <td>admit</td>\n",
              "    </tr>\n",
              "    <tr>\n",
              "      <th>3</th>\n",
              "      <td>3072720</td>\n",
              "      <td>Male</td>\n",
              "      <td>58</td>\n",
              "      <td>Caucasian</td>\n",
              "      <td>420</td>\n",
              "      <td>1026</td>\n",
              "      <td>173.0</td>\n",
              "      <td>NaN</td>\n",
              "      <td>Other Hospital</td>\n",
              "      <td>Med-Surg ICU</td>\n",
              "      <td>admit</td>\n",
              "    </tr>\n",
              "    <tr>\n",
              "      <th>4</th>\n",
              "      <td>3075429</td>\n",
              "      <td>Female</td>\n",
              "      <td>68</td>\n",
              "      <td>Caucasian</td>\n",
              "      <td>420</td>\n",
              "      <td>1026</td>\n",
              "      <td>165.1</td>\n",
              "      <td>NaN</td>\n",
              "      <td>Other Hospital</td>\n",
              "      <td>Med-Surg ICU</td>\n",
              "      <td>admit</td>\n",
              "    </tr>\n",
              "  </tbody>\n",
              "</table>\n",
              "</div>"
            ],
            "text/plain": [
              "   patientunitstayid  gender age      ethnicity  hospitalid  wardid  \\\n",
              "0            1137569  Female  75  Other/Unknown         208     513   \n",
              "1            3036927    Male  51      Caucasian         420    1026   \n",
              "2            3058863  Female  31      Caucasian         420    1026   \n",
              "3            3072720    Male  58      Caucasian         420    1026   \n",
              "4            3075429  Female  68      Caucasian         420    1026   \n",
              "\n",
              "   admissionheight  admissionweight   hospitaladmitsource      unittype  \\\n",
              "0            172.7             95.7      Acute Care/Floor          MICU   \n",
              "1            177.8              NaN  Emergency Department  Med-Surg ICU   \n",
              "2            162.6              NaN  Emergency Department  Med-Surg ICU   \n",
              "3            173.0              NaN        Other Hospital  Med-Surg ICU   \n",
              "4            165.1              NaN        Other Hospital  Med-Surg ICU   \n",
              "\n",
              "  unitstaytype  \n",
              "0      readmit  \n",
              "1        admit  \n",
              "2        admit  \n",
              "3        admit  \n",
              "4        admit  "
            ]
          },
          "metadata": {
            "tags": []
          },
          "execution_count": 11
        }
      ]
    },
    {
      "cell_type": "code",
      "metadata": {
        "id": "5Gd0_zh1ChZ_",
        "colab_type": "code",
        "colab": {}
      },
      "source": [
        ""
      ],
      "execution_count": 0,
      "outputs": []
    },
    {
      "cell_type": "markdown",
      "metadata": {
        "id": "1L81fxDxCpGr",
        "colab_type": "text"
      },
      "source": [
        "## Keep required ICU stay ids"
      ]
    },
    {
      "cell_type": "code",
      "metadata": {
        "id": "HnYg95bqCwHw",
        "colab_type": "code",
        "colab": {}
      },
      "source": [
        "df_required_icu_stays =  df_patient[df_patient.patientunitstayid.isin(first_icuid_dict.keys())].reset_index(drop=True)"
      ],
      "execution_count": 0,
      "outputs": []
    },
    {
      "cell_type": "code",
      "metadata": {
        "id": "LGUPwrunDuhm",
        "colab_type": "code",
        "colab": {
          "base_uri": "https://localhost:8080/",
          "height": 34
        },
        "outputId": "76ed2c3e-9cd5-4fce-cce3-7b066acb6108"
      },
      "source": [
        "df_required_icu_stays.shape"
      ],
      "execution_count": 19,
      "outputs": [
        {
          "output_type": "execute_result",
          "data": {
            "text/plain": [
              "(38823, 11)"
            ]
          },
          "metadata": {
            "tags": []
          },
          "execution_count": 19
        }
      ]
    },
    {
      "cell_type": "code",
      "metadata": {
        "id": "L7CcEJfNDxAR",
        "colab_type": "code",
        "colab": {}
      },
      "source": [
        ""
      ],
      "execution_count": 0,
      "outputs": []
    },
    {
      "cell_type": "markdown",
      "metadata": {
        "id": "xsexUHtYE-LO",
        "colab_type": "text"
      },
      "source": [
        "## Compute BMI\n",
        "Formula: weight (kg) / [height (m)]2"
      ]
    },
    {
      "cell_type": "code",
      "metadata": {
        "id": "LMs5219iE_tr",
        "colab_type": "code",
        "colab": {}
      },
      "source": [
        "df_required_icu_stays['BMI'] = df_required_icu_stays.apply(lambda row: round(row['admissionweight']/(row['admissionheight']/100.0)**2,2) if (~np.isnan(row['admissionheight'])) & (row['admissionheight']!=0) else np.NaN ,axis=1)"
      ],
      "execution_count": 0,
      "outputs": []
    },
    {
      "cell_type": "code",
      "metadata": {
        "id": "KhRroslUF506",
        "colab_type": "code",
        "colab": {
          "base_uri": "https://localhost:8080/",
          "height": 34
        },
        "outputId": "ec97aba9-c84b-4ce2-d5b1-e0bd31227298"
      },
      "source": [
        "sum(df_required_icu_stays['BMI'].isnull())"
      ],
      "execution_count": 40,
      "outputs": [
        {
          "output_type": "execute_result",
          "data": {
            "text/plain": [
              "749"
            ]
          },
          "metadata": {
            "tags": []
          },
          "execution_count": 40
        }
      ]
    },
    {
      "cell_type": "code",
      "metadata": {
        "id": "hxKBM1oVHxZ7",
        "colab_type": "code",
        "colab": {
          "base_uri": "https://localhost:8080/",
          "height": 204
        },
        "outputId": "e8618aa7-8ce9-4613-e30f-206627cf929c"
      },
      "source": [
        "df_required_icu_stays.head()"
      ],
      "execution_count": 41,
      "outputs": [
        {
          "output_type": "execute_result",
          "data": {
            "text/html": [
              "<div>\n",
              "<style scoped>\n",
              "    .dataframe tbody tr th:only-of-type {\n",
              "        vertical-align: middle;\n",
              "    }\n",
              "\n",
              "    .dataframe tbody tr th {\n",
              "        vertical-align: top;\n",
              "    }\n",
              "\n",
              "    .dataframe thead th {\n",
              "        text-align: right;\n",
              "    }\n",
              "</style>\n",
              "<table border=\"1\" class=\"dataframe\">\n",
              "  <thead>\n",
              "    <tr style=\"text-align: right;\">\n",
              "      <th></th>\n",
              "      <th>patientunitstayid</th>\n",
              "      <th>gender</th>\n",
              "      <th>age</th>\n",
              "      <th>ethnicity</th>\n",
              "      <th>hospitalid</th>\n",
              "      <th>wardid</th>\n",
              "      <th>admissionheight</th>\n",
              "      <th>admissionweight</th>\n",
              "      <th>hospitaladmitsource</th>\n",
              "      <th>unittype</th>\n",
              "      <th>unitstaytype</th>\n",
              "      <th>BMI</th>\n",
              "    </tr>\n",
              "  </thead>\n",
              "  <tbody>\n",
              "    <tr>\n",
              "      <th>0</th>\n",
              "      <td>3132737</td>\n",
              "      <td>Male</td>\n",
              "      <td>55</td>\n",
              "      <td>African American</td>\n",
              "      <td>428</td>\n",
              "      <td>1048</td>\n",
              "      <td>162.56</td>\n",
              "      <td>51.5</td>\n",
              "      <td></td>\n",
              "      <td>Med-Surg ICU</td>\n",
              "      <td>admit</td>\n",
              "      <td>19.49</td>\n",
              "    </tr>\n",
              "    <tr>\n",
              "      <th>1</th>\n",
              "      <td>3139462</td>\n",
              "      <td>Male</td>\n",
              "      <td>83</td>\n",
              "      <td>Caucasian</td>\n",
              "      <td>428</td>\n",
              "      <td>1048</td>\n",
              "      <td>172.72</td>\n",
              "      <td>58.0</td>\n",
              "      <td></td>\n",
              "      <td>Med-Surg ICU</td>\n",
              "      <td>admit</td>\n",
              "      <td>19.44</td>\n",
              "    </tr>\n",
              "    <tr>\n",
              "      <th>2</th>\n",
              "      <td>2259342</td>\n",
              "      <td>Female</td>\n",
              "      <td>53</td>\n",
              "      <td></td>\n",
              "      <td>301</td>\n",
              "      <td>798</td>\n",
              "      <td>157.00</td>\n",
              "      <td>102.0</td>\n",
              "      <td></td>\n",
              "      <td>Med-Surg ICU</td>\n",
              "      <td>admit</td>\n",
              "      <td>41.38</td>\n",
              "    </tr>\n",
              "    <tr>\n",
              "      <th>3</th>\n",
              "      <td>3168101</td>\n",
              "      <td>Female</td>\n",
              "      <td>61</td>\n",
              "      <td>African American</td>\n",
              "      <td>443</td>\n",
              "      <td>1068</td>\n",
              "      <td>172.00</td>\n",
              "      <td>64.0</td>\n",
              "      <td></td>\n",
              "      <td>Neuro ICU</td>\n",
              "      <td>admit</td>\n",
              "      <td>21.63</td>\n",
              "    </tr>\n",
              "    <tr>\n",
              "      <th>4</th>\n",
              "      <td>2130984</td>\n",
              "      <td>Female</td>\n",
              "      <td>62</td>\n",
              "      <td>Caucasian</td>\n",
              "      <td>310</td>\n",
              "      <td>836</td>\n",
              "      <td>162.60</td>\n",
              "      <td>37.5</td>\n",
              "      <td></td>\n",
              "      <td>Med-Surg ICU</td>\n",
              "      <td>admit</td>\n",
              "      <td>14.18</td>\n",
              "    </tr>\n",
              "  </tbody>\n",
              "</table>\n",
              "</div>"
            ],
            "text/plain": [
              "   patientunitstayid  gender age         ethnicity  hospitalid  wardid  \\\n",
              "0            3132737    Male  55  African American         428    1048   \n",
              "1            3139462    Male  83         Caucasian         428    1048   \n",
              "2            2259342  Female  53                           301     798   \n",
              "3            3168101  Female  61  African American         443    1068   \n",
              "4            2130984  Female  62         Caucasian         310     836   \n",
              "\n",
              "   admissionheight  admissionweight hospitaladmitsource      unittype  \\\n",
              "0           162.56             51.5                      Med-Surg ICU   \n",
              "1           172.72             58.0                      Med-Surg ICU   \n",
              "2           157.00            102.0                      Med-Surg ICU   \n",
              "3           172.00             64.0                         Neuro ICU   \n",
              "4           162.60             37.5                      Med-Surg ICU   \n",
              "\n",
              "  unitstaytype    BMI  \n",
              "0        admit  19.49  \n",
              "1        admit  19.44  \n",
              "2        admit  41.38  \n",
              "3        admit  21.63  \n",
              "4        admit  14.18  "
            ]
          },
          "metadata": {
            "tags": []
          },
          "execution_count": 41
        }
      ]
    },
    {
      "cell_type": "code",
      "metadata": {
        "id": "wgfiIoQuLWKe",
        "colab_type": "code",
        "colab": {}
      },
      "source": [
        ""
      ],
      "execution_count": 0,
      "outputs": []
    },
    {
      "cell_type": "markdown",
      "metadata": {
        "id": "RBEGoe_NLXEj",
        "colab_type": "text"
      },
      "source": [
        "## Clean variables"
      ]
    },
    {
      "cell_type": "code",
      "metadata": {
        "id": "F3vfjmh9LWT1",
        "colab_type": "code",
        "colab": {}
      },
      "source": [
        "### gender:"
      ],
      "execution_count": 0,
      "outputs": []
    },
    {
      "cell_type": "code",
      "metadata": {
        "id": "LTPzEoO8MD0y",
        "colab_type": "code",
        "colab": {
          "base_uri": "https://localhost:8080/",
          "height": 119
        },
        "outputId": "ec8fcf03-f153-469c-bf82-463a310c0eb2"
      },
      "source": [
        "df_required_icu_stays.gender.value_counts()"
      ],
      "execution_count": 45,
      "outputs": [
        {
          "output_type": "execute_result",
          "data": {
            "text/plain": [
              "Male       22054\n",
              "Female     16760\n",
              "Other          4\n",
              "Unknown        4\n",
              "               1\n",
              "Name: gender, dtype: int64"
            ]
          },
          "metadata": {
            "tags": []
          },
          "execution_count": 45
        }
      ]
    },
    {
      "cell_type": "code",
      "metadata": {
        "id": "v0HNaVXcMD3i",
        "colab_type": "code",
        "colab": {}
      },
      "source": [
        "df_required_icu_stays.loc[df_required_icu_stays.gender=='','gender'] = 'Unknown'"
      ],
      "execution_count": 0,
      "outputs": []
    },
    {
      "cell_type": "code",
      "metadata": {
        "id": "7NXZq3MJMD6i",
        "colab_type": "code",
        "colab": {
          "base_uri": "https://localhost:8080/",
          "height": 102
        },
        "outputId": "7f7b29e9-e5b0-46d7-9071-0f65a197adb3"
      },
      "source": [
        "df_required_icu_stays.gender.value_counts()"
      ],
      "execution_count": 48,
      "outputs": [
        {
          "output_type": "execute_result",
          "data": {
            "text/plain": [
              "Male       22054\n",
              "Female     16760\n",
              "Unknown        5\n",
              "Other          4\n",
              "Name: gender, dtype: int64"
            ]
          },
          "metadata": {
            "tags": []
          },
          "execution_count": 48
        }
      ]
    },
    {
      "cell_type": "code",
      "metadata": {
        "id": "nRAa8Zh3MD9A",
        "colab_type": "code",
        "colab": {}
      },
      "source": [
        "### age"
      ],
      "execution_count": 0,
      "outputs": []
    },
    {
      "cell_type": "code",
      "metadata": {
        "id": "s0n4x-oEMs3H",
        "colab_type": "code",
        "colab": {}
      },
      "source": [
        "df_required_icu_stays.age = pd.to_numeric(df_required_icu_stays.age, errors='coerce')"
      ],
      "execution_count": 0,
      "outputs": []
    },
    {
      "cell_type": "code",
      "metadata": {
        "id": "JNSNsPcCNMdz",
        "colab_type": "code",
        "colab": {
          "base_uri": "https://localhost:8080/",
          "height": 170
        },
        "outputId": "8ec7eb40-b196-48fd-f695-22dbf431f4ff"
      },
      "source": [
        "df_required_icu_stays.age.describe()"
      ],
      "execution_count": 53,
      "outputs": [
        {
          "output_type": "execute_result",
          "data": {
            "text/plain": [
              "count    38136.000000\n",
              "mean        62.118523\n",
              "std         15.643424\n",
              "min         15.000000\n",
              "25%         53.000000\n",
              "50%         64.000000\n",
              "75%         74.000000\n",
              "max         89.000000\n",
              "Name: age, dtype: float64"
            ]
          },
          "metadata": {
            "tags": []
          },
          "execution_count": 53
        }
      ]
    },
    {
      "cell_type": "code",
      "metadata": {
        "id": "yXI8B4t7NRaW",
        "colab_type": "code",
        "colab": {
          "base_uri": "https://localhost:8080/",
          "height": 34
        },
        "outputId": "d97f45b0-e7fe-4567-d088-fccb5f67dab8"
      },
      "source": [
        "sum(df_required_icu_stays.age.isnull())"
      ],
      "execution_count": 54,
      "outputs": [
        {
          "output_type": "execute_result",
          "data": {
            "text/plain": [
              "687"
            ]
          },
          "metadata": {
            "tags": []
          },
          "execution_count": 54
        }
      ]
    },
    {
      "cell_type": "code",
      "metadata": {
        "id": "IlolqYSuNamA",
        "colab_type": "code",
        "colab": {}
      },
      "source": [
        "### ethnicity"
      ],
      "execution_count": 0,
      "outputs": []
    },
    {
      "cell_type": "code",
      "metadata": {
        "id": "BR5hYJifNaqQ",
        "colab_type": "code",
        "colab": {
          "base_uri": "https://localhost:8080/",
          "height": 153
        },
        "outputId": "f2f7db6d-f0c6-47ed-c1cd-f5659ec35529"
      },
      "source": [
        "df_required_icu_stays.ethnicity.value_counts()"
      ],
      "execution_count": 56,
      "outputs": [
        {
          "output_type": "execute_result",
          "data": {
            "text/plain": [
              "Caucasian           29698\n",
              "African American     4438\n",
              "Other/Unknown        1832\n",
              "Hispanic             1430\n",
              "Asian                 683\n",
              "                      444\n",
              "Native American       298\n",
              "Name: ethnicity, dtype: int64"
            ]
          },
          "metadata": {
            "tags": []
          },
          "execution_count": 56
        }
      ]
    },
    {
      "cell_type": "code",
      "metadata": {
        "id": "xjBk4YgUNas6",
        "colab_type": "code",
        "colab": {}
      },
      "source": [
        "df_required_icu_stays.loc[df_required_icu_stays.ethnicity=='','ethnicity'] = 'Other/Unknown'"
      ],
      "execution_count": 0,
      "outputs": []
    },
    {
      "cell_type": "code",
      "metadata": {
        "id": "EGmY6aLNNavP",
        "colab_type": "code",
        "colab": {
          "base_uri": "https://localhost:8080/",
          "height": 136
        },
        "outputId": "0ba12553-afe0-4a6e-fb9c-bb893b750dde"
      },
      "source": [
        "df_required_icu_stays.ethnicity.value_counts()"
      ],
      "execution_count": 58,
      "outputs": [
        {
          "output_type": "execute_result",
          "data": {
            "text/plain": [
              "Caucasian           29698\n",
              "African American     4438\n",
              "Other/Unknown        2276\n",
              "Hispanic             1430\n",
              "Asian                 683\n",
              "Native American       298\n",
              "Name: ethnicity, dtype: int64"
            ]
          },
          "metadata": {
            "tags": []
          },
          "execution_count": 58
        }
      ]
    },
    {
      "cell_type": "code",
      "metadata": {
        "id": "9RzyZPXfNaxn",
        "colab_type": "code",
        "colab": {}
      },
      "source": [
        "### hospitaladmitsource"
      ],
      "execution_count": 0,
      "outputs": []
    },
    {
      "cell_type": "code",
      "metadata": {
        "id": "-55loV4sOYUP",
        "colab_type": "code",
        "colab": {
          "base_uri": "https://localhost:8080/",
          "height": 289
        },
        "outputId": "44382fa1-fb53-4fda-9feb-2e31db111fd2"
      },
      "source": [
        "df_required_icu_stays.hospitaladmitsource.value_counts()"
      ],
      "execution_count": 59,
      "outputs": [
        {
          "output_type": "execute_result",
          "data": {
            "text/plain": [
              "Emergency Department    12575\n",
              "                        10086\n",
              "Operating Room           7135\n",
              "Floor                    3024\n",
              "Direct Admit             2574\n",
              "Other Hospital           1008\n",
              "Recovery Room             817\n",
              "Step-Down Unit (SDU)      621\n",
              "Acute Care/Floor          567\n",
              "PACU                      200\n",
              "Other ICU                 119\n",
              "Chest Pain Center          49\n",
              "ICU to SDU                 27\n",
              "ICU                        18\n",
              "Observation                 3\n",
              "Name: hospitaladmitsource, dtype: int64"
            ]
          },
          "metadata": {
            "tags": []
          },
          "execution_count": 59
        }
      ]
    },
    {
      "cell_type": "code",
      "metadata": {
        "id": "S5zNTHFbOYW8",
        "colab_type": "code",
        "colab": {}
      },
      "source": [
        "df_required_icu_stays.loc[df_required_icu_stays.hospitaladmitsource=='','hospitaladmitsource'] = 'Unknown'"
      ],
      "execution_count": 0,
      "outputs": []
    },
    {
      "cell_type": "code",
      "metadata": {
        "id": "W6I0xDMsPgfB",
        "colab_type": "code",
        "colab": {
          "base_uri": "https://localhost:8080/",
          "height": 289
        },
        "outputId": "36418cd6-ad1a-442d-f235-050a75451c15"
      },
      "source": [
        "df_required_icu_stays.hospitaladmitsource.value_counts()"
      ],
      "execution_count": 61,
      "outputs": [
        {
          "output_type": "execute_result",
          "data": {
            "text/plain": [
              "Emergency Department    12575\n",
              "Unknown                 10086\n",
              "Operating Room           7135\n",
              "Floor                    3024\n",
              "Direct Admit             2574\n",
              "Other Hospital           1008\n",
              "Recovery Room             817\n",
              "Step-Down Unit (SDU)      621\n",
              "Acute Care/Floor          567\n",
              "PACU                      200\n",
              "Other ICU                 119\n",
              "Chest Pain Center          49\n",
              "ICU to SDU                 27\n",
              "ICU                        18\n",
              "Observation                 3\n",
              "Name: hospitaladmitsource, dtype: int64"
            ]
          },
          "metadata": {
            "tags": []
          },
          "execution_count": 61
        }
      ]
    },
    {
      "cell_type": "code",
      "metadata": {
        "id": "PcGur2jvPu_i",
        "colab_type": "code",
        "colab": {}
      },
      "source": [
        "### unittype"
      ],
      "execution_count": 0,
      "outputs": []
    },
    {
      "cell_type": "code",
      "metadata": {
        "id": "dRI0O44IPvCS",
        "colab_type": "code",
        "colab": {
          "base_uri": "https://localhost:8080/",
          "height": 170
        },
        "outputId": "9b608504-6473-4c67-867c-957a16f7a859"
      },
      "source": [
        "df_required_icu_stays.unittype.value_counts()"
      ],
      "execution_count": 97,
      "outputs": [
        {
          "output_type": "execute_result",
          "data": {
            "text/plain": [
              "Med-Surg ICU    19594\n",
              "CCU-CTICU        3772\n",
              "MICU             3625\n",
              "SICU             2850\n",
              "Neuro ICU        2635\n",
              "CTICU            2261\n",
              "CSICU            2079\n",
              "Cardiac ICU      2007\n",
              "Name: unittype, dtype: int64"
            ]
          },
          "metadata": {
            "tags": []
          },
          "execution_count": 97
        }
      ]
    },
    {
      "cell_type": "code",
      "metadata": {
        "id": "lC7KIbJ3PvE3",
        "colab_type": "code",
        "colab": {}
      },
      "source": [
        "### unitstaytype"
      ],
      "execution_count": 0,
      "outputs": []
    },
    {
      "cell_type": "code",
      "metadata": {
        "id": "iMbWXrYRPvHO",
        "colab_type": "code",
        "colab": {
          "base_uri": "https://localhost:8080/",
          "height": 102
        },
        "outputId": "a62f00d8-a4bd-4855-bd91-bcdc7ba8a4b3"
      },
      "source": [
        "df_required_icu_stays.unitstaytype.value_counts()"
      ],
      "execution_count": 95,
      "outputs": [
        {
          "output_type": "execute_result",
          "data": {
            "text/plain": [
              "admit             36948\n",
              "transfer           1735\n",
              "readmit              99\n",
              "stepdown/other       41\n",
              "Name: unitstaytype, dtype: int64"
            ]
          },
          "metadata": {
            "tags": []
          },
          "execution_count": 95
        }
      ]
    },
    {
      "cell_type": "code",
      "metadata": {
        "id": "_-nCqOszQCm8",
        "colab_type": "code",
        "colab": {}
      },
      "source": [
        "### BMI:"
      ],
      "execution_count": 0,
      "outputs": []
    },
    {
      "cell_type": "code",
      "metadata": {
        "id": "ycDsOak0QCpj",
        "colab_type": "code",
        "colab": {
          "base_uri": "https://localhost:8080/",
          "height": 170
        },
        "outputId": "ca971f56-e347-4e65-9dc4-a4b32f5722b8"
      },
      "source": [
        "df_required_icu_stays['BMI'].describe()"
      ],
      "execution_count": 66,
      "outputs": [
        {
          "output_type": "execute_result",
          "data": {
            "text/plain": [
              "count     38074.000000\n",
              "mean        163.599577\n",
              "std        6446.945383\n",
              "min           0.000000\n",
              "25%          23.850000\n",
              "50%          28.100000\n",
              "75%          33.570000\n",
              "max      549218.750000\n",
              "Name: BMI, dtype: float64"
            ]
          },
          "metadata": {
            "tags": []
          },
          "execution_count": 66
        }
      ]
    },
    {
      "cell_type": "code",
      "metadata": {
        "id": "uC_CSxoBTWQB",
        "colab_type": "code",
        "colab": {}
      },
      "source": [
        "# Group BMI based on the definition: https://en.wikipedia.org/wiki/Body_mass_index#/media/File:BMI_chart.svg"
      ],
      "execution_count": 0,
      "outputs": []
    },
    {
      "cell_type": "code",
      "metadata": {
        "id": "Nop7vwR3TWSj",
        "colab_type": "code",
        "colab": {}
      },
      "source": [
        "def BMI_label(bmi):\n",
        "  if bmi < 18.5:\n",
        "    return 'Underweight'\n",
        "  elif (bmi>=18.5) & (bmi<25):\n",
        "    return 'Normal weight'\n",
        "  elif (bmi>=25) & (bmi<30):\n",
        "    return 'Overweight'\n",
        "  elif bmi>=30:\n",
        "    return 'Obese'"
      ],
      "execution_count": 0,
      "outputs": []
    },
    {
      "cell_type": "code",
      "metadata": {
        "id": "d9gENK4gWCx3",
        "colab_type": "code",
        "colab": {}
      },
      "source": [
        "df_required_icu_stays['BMI_category'] = df_required_icu_stays['BMI'].apply(BMI_label)"
      ],
      "execution_count": 0,
      "outputs": []
    },
    {
      "cell_type": "code",
      "metadata": {
        "id": "7tpkdlwaWC0f",
        "colab_type": "code",
        "colab": {
          "base_uri": "https://localhost:8080/",
          "height": 102
        },
        "outputId": "9f46f311-75df-46ab-8857-b884925ba3ef"
      },
      "source": [
        "df_required_icu_stays.BMI_category.value_counts()"
      ],
      "execution_count": 83,
      "outputs": [
        {
          "output_type": "execute_result",
          "data": {
            "text/plain": [
              "Obese            15160\n",
              "Overweight       10927\n",
              "Normal weight    10387\n",
              "Underweight       1600\n",
              "Name: BMI_category, dtype: int64"
            ]
          },
          "metadata": {
            "tags": []
          },
          "execution_count": 83
        }
      ]
    },
    {
      "cell_type": "code",
      "metadata": {
        "id": "CXnzcA_KYjDw",
        "colab_type": "code",
        "colab": {}
      },
      "source": [
        "df_required_icu_stays.loc[df_required_icu_stays.BMI_category.isnull(),'BMI_category'] = 'Unknown'"
      ],
      "execution_count": 0,
      "outputs": []
    },
    {
      "cell_type": "code",
      "metadata": {
        "id": "4byWt-MmZiJx",
        "colab_type": "code",
        "colab": {
          "base_uri": "https://localhost:8080/",
          "height": 119
        },
        "outputId": "80107764-ff48-403d-e14a-e386b615c5a5"
      },
      "source": [
        "df_required_icu_stays.BMI_category.value_counts()"
      ],
      "execution_count": 93,
      "outputs": [
        {
          "output_type": "execute_result",
          "data": {
            "text/plain": [
              "Obese            15160\n",
              "Overweight       10927\n",
              "Normal weight    10387\n",
              "Underweight       1600\n",
              "Unknown            749\n",
              "Name: BMI_category, dtype: int64"
            ]
          },
          "metadata": {
            "tags": []
          },
          "execution_count": 93
        }
      ]
    },
    {
      "cell_type": "code",
      "metadata": {
        "id": "MDe42f96ZzIP",
        "colab_type": "code",
        "colab": {
          "base_uri": "https://localhost:8080/",
          "height": 204
        },
        "outputId": "a72ec484-5ef9-4ef1-f0c6-e47bb094f80a"
      },
      "source": [
        "df_required_icu_stays.head()"
      ],
      "execution_count": 98,
      "outputs": [
        {
          "output_type": "execute_result",
          "data": {
            "text/html": [
              "<div>\n",
              "<style scoped>\n",
              "    .dataframe tbody tr th:only-of-type {\n",
              "        vertical-align: middle;\n",
              "    }\n",
              "\n",
              "    .dataframe tbody tr th {\n",
              "        vertical-align: top;\n",
              "    }\n",
              "\n",
              "    .dataframe thead th {\n",
              "        text-align: right;\n",
              "    }\n",
              "</style>\n",
              "<table border=\"1\" class=\"dataframe\">\n",
              "  <thead>\n",
              "    <tr style=\"text-align: right;\">\n",
              "      <th></th>\n",
              "      <th>patientunitstayid</th>\n",
              "      <th>gender</th>\n",
              "      <th>age</th>\n",
              "      <th>ethnicity</th>\n",
              "      <th>hospitalid</th>\n",
              "      <th>wardid</th>\n",
              "      <th>admissionheight</th>\n",
              "      <th>admissionweight</th>\n",
              "      <th>hospitaladmitsource</th>\n",
              "      <th>unittype</th>\n",
              "      <th>unitstaytype</th>\n",
              "      <th>BMI</th>\n",
              "      <th>BMI_category</th>\n",
              "    </tr>\n",
              "  </thead>\n",
              "  <tbody>\n",
              "    <tr>\n",
              "      <th>0</th>\n",
              "      <td>3132737</td>\n",
              "      <td>Male</td>\n",
              "      <td>55.0</td>\n",
              "      <td>African American</td>\n",
              "      <td>428</td>\n",
              "      <td>1048</td>\n",
              "      <td>162.56</td>\n",
              "      <td>51.5</td>\n",
              "      <td>Unknown</td>\n",
              "      <td>Med-Surg ICU</td>\n",
              "      <td>admit</td>\n",
              "      <td>19.49</td>\n",
              "      <td>Normal weight</td>\n",
              "    </tr>\n",
              "    <tr>\n",
              "      <th>1</th>\n",
              "      <td>3139462</td>\n",
              "      <td>Male</td>\n",
              "      <td>83.0</td>\n",
              "      <td>Caucasian</td>\n",
              "      <td>428</td>\n",
              "      <td>1048</td>\n",
              "      <td>172.72</td>\n",
              "      <td>58.0</td>\n",
              "      <td>Unknown</td>\n",
              "      <td>Med-Surg ICU</td>\n",
              "      <td>admit</td>\n",
              "      <td>19.44</td>\n",
              "      <td>Normal weight</td>\n",
              "    </tr>\n",
              "    <tr>\n",
              "      <th>2</th>\n",
              "      <td>2259342</td>\n",
              "      <td>Female</td>\n",
              "      <td>53.0</td>\n",
              "      <td>Other/Unknown</td>\n",
              "      <td>301</td>\n",
              "      <td>798</td>\n",
              "      <td>157.00</td>\n",
              "      <td>102.0</td>\n",
              "      <td>Unknown</td>\n",
              "      <td>Med-Surg ICU</td>\n",
              "      <td>admit</td>\n",
              "      <td>41.38</td>\n",
              "      <td>Obese</td>\n",
              "    </tr>\n",
              "    <tr>\n",
              "      <th>3</th>\n",
              "      <td>3168101</td>\n",
              "      <td>Female</td>\n",
              "      <td>61.0</td>\n",
              "      <td>African American</td>\n",
              "      <td>443</td>\n",
              "      <td>1068</td>\n",
              "      <td>172.00</td>\n",
              "      <td>64.0</td>\n",
              "      <td>Unknown</td>\n",
              "      <td>Neuro ICU</td>\n",
              "      <td>admit</td>\n",
              "      <td>21.63</td>\n",
              "      <td>Normal weight</td>\n",
              "    </tr>\n",
              "    <tr>\n",
              "      <th>4</th>\n",
              "      <td>2130984</td>\n",
              "      <td>Female</td>\n",
              "      <td>62.0</td>\n",
              "      <td>Caucasian</td>\n",
              "      <td>310</td>\n",
              "      <td>836</td>\n",
              "      <td>162.60</td>\n",
              "      <td>37.5</td>\n",
              "      <td>Unknown</td>\n",
              "      <td>Med-Surg ICU</td>\n",
              "      <td>admit</td>\n",
              "      <td>14.18</td>\n",
              "      <td>Underweight</td>\n",
              "    </tr>\n",
              "  </tbody>\n",
              "</table>\n",
              "</div>"
            ],
            "text/plain": [
              "   patientunitstayid  gender   age         ethnicity  hospitalid  wardid  \\\n",
              "0            3132737    Male  55.0  African American         428    1048   \n",
              "1            3139462    Male  83.0         Caucasian         428    1048   \n",
              "2            2259342  Female  53.0     Other/Unknown         301     798   \n",
              "3            3168101  Female  61.0  African American         443    1068   \n",
              "4            2130984  Female  62.0         Caucasian         310     836   \n",
              "\n",
              "   admissionheight  admissionweight hospitaladmitsource      unittype  \\\n",
              "0           162.56             51.5             Unknown  Med-Surg ICU   \n",
              "1           172.72             58.0             Unknown  Med-Surg ICU   \n",
              "2           157.00            102.0             Unknown  Med-Surg ICU   \n",
              "3           172.00             64.0             Unknown     Neuro ICU   \n",
              "4           162.60             37.5             Unknown  Med-Surg ICU   \n",
              "\n",
              "  unitstaytype    BMI   BMI_category  \n",
              "0        admit  19.49  Normal weight  \n",
              "1        admit  19.44  Normal weight  \n",
              "2        admit  41.38          Obese  \n",
              "3        admit  21.63  Normal weight  \n",
              "4        admit  14.18    Underweight  "
            ]
          },
          "metadata": {
            "tags": []
          },
          "execution_count": 98
        }
      ]
    },
    {
      "cell_type": "code",
      "metadata": {
        "id": "4BgXdMu0IC3c",
        "colab_type": "code",
        "colab": {}
      },
      "source": [
        "df_required_icu_stays[['patientunitstayid','gender','age','ethnicity','hospitalid','wardid','hospitaladmitsource','unittype','unitstaytype','BMI','BMI_category']].to_csv('demo_variables.csv')\n",
        "#files.download('demo_variables.csv')"
      ],
      "execution_count": 0,
      "outputs": []
    },
    {
      "cell_type": "code",
      "metadata": {
        "id": "MUtEaC4TaWKs",
        "colab_type": "code",
        "colab": {}
      },
      "source": [
        ""
      ],
      "execution_count": 0,
      "outputs": []
    }
  ]
}