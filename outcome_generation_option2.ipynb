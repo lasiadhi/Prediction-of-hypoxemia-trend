{
  "nbformat": 4,
  "nbformat_minor": 0,
  "metadata": {
    "colab": {
      "name": "outcome_generation_option2.ipynb",
      "provenance": [],
      "collapsed_sections": [],
      "include_colab_link": true
    },
    "kernelspec": {
      "name": "python3",
      "display_name": "Python 3"
    }
  },
  "cells": [
    {
      "cell_type": "markdown",
      "metadata": {
        "id": "view-in-github",
        "colab_type": "text"
      },
      "source": [
        "<a href=\"https://colab.research.google.com/github/lasiadhi/Prediction-of-hypoxemia-trend/blob/master/outcome_generation_option2.ipynb\" target=\"_parent\"><img src=\"https://colab.research.google.com/assets/colab-badge.svg\" alt=\"Open In Colab\"/></a>"
      ]
    },
    {
      "cell_type": "code",
      "metadata": {
        "id": "L7z4d8ydQn5X",
        "colab_type": "code",
        "colab": {}
      },
      "source": [
        "#################################################\n",
        "###### @author: Lasith Adhikari (python 3)  #####\n",
        "############ Created on Nov 25, 2019 ############\n",
        "# Code description: \n",
        "# Generate hypoxemia change/transition using the first PF value (PF1) after IV start and first PF after PF1 time + 24h "
      ],
      "execution_count": 0,
      "outputs": []
    },
    {
      "cell_type": "code",
      "metadata": {
        "id": "zXNEqjPn7coj",
        "colab_type": "code",
        "colab": {
          "base_uri": "https://localhost:8080/",
          "height": 63
        },
        "outputId": "74621b5a-3d6f-4497-ba1e-2b5fa0517a99"
      },
      "source": [
        "# Import libraries\n",
        "import numpy as np\n",
        "import os\n",
        "import pandas as pd\n",
        "import matplotlib.pyplot as plt\n",
        "import matplotlib.patches as patches\n",
        "import matplotlib.path as path\n",
        "import tensorflow as tf\n",
        "\n",
        "# Below imports are used to print out pretty pandas dataframes\n",
        "from IPython.display import display, HTML\n",
        "\n",
        "# Imports for accessing Datathon data using Google BigQuery.\n",
        "from google.colab import auth\n",
        "from google.cloud import bigquery"
      ],
      "execution_count": 1,
      "outputs": [
        {
          "output_type": "display_data",
          "data": {
            "text/html": [
              "<p style=\"color: red;\">\n",
              "The default version of TensorFlow in Colab will soon switch to TensorFlow 2.x.<br>\n",
              "We recommend you <a href=\"https://www.tensorflow.org/guide/migrate\" target=\"_blank\">upgrade</a> now \n",
              "or ensure your notebook will continue to use TensorFlow 1.x via the <code>%tensorflow_version 1.x</code> magic:\n",
              "<a href=\"https://colab.research.google.com/notebooks/tensorflow_version.ipynb\" target=\"_blank\">more info</a>.</p>\n"
            ],
            "text/plain": [
              "<IPython.core.display.HTML object>"
            ]
          },
          "metadata": {
            "tags": []
          }
        }
      ]
    },
    {
      "cell_type": "code",
      "metadata": {
        "id": "vZbDa14nQzjW",
        "colab_type": "code",
        "colab": {}
      },
      "source": [
        "from google.colab import files\n",
        "import seaborn as sns\n",
        "import pickle\n",
        "import matplotlib.pyplot as plt \n",
        "pd.options.display.max_columns = 200\n",
        "pd.options.display.max_rows = 200"
      ],
      "execution_count": 0,
      "outputs": []
    },
    {
      "cell_type": "code",
      "metadata": {
        "id": "U0DdYAPIQ1cC",
        "colab_type": "code",
        "colab": {}
      },
      "source": [
        "auth.authenticate_user()"
      ],
      "execution_count": 0,
      "outputs": []
    },
    {
      "cell_type": "code",
      "metadata": {
        "id": "JQ71vcTUelVu",
        "colab_type": "code",
        "colab": {}
      },
      "source": [
        "# Note that this should be the project for the datathon work,\n",
        "# not the physionet-data project which is for data hosting.\n",
        "project_id = 'hst-953-2019'\n",
        "os.environ['GOOGLE_CLOUD_PROJECT'] = project_id"
      ],
      "execution_count": 0,
      "outputs": []
    },
    {
      "cell_type": "code",
      "metadata": {
        "id": "S6Kg1vfneDCj",
        "colab_type": "code",
        "colab": {}
      },
      "source": [
        "# Read data from BigQuery into pandas dataframes.\n",
        "def run_query(query):\n",
        "  return pd.io.gbq.read_gbq(\n",
        "      query,\n",
        "      project_id=project_id,\n",
        "      dialect='standard')"
      ],
      "execution_count": 0,
      "outputs": []
    },
    {
      "cell_type": "code",
      "metadata": {
        "id": "h6RIfbhZRj62",
        "colab_type": "code",
        "outputId": "a123efb8-f1fe-4d33-c6fc-49010ab0821b",
        "colab": {
          "base_uri": "https://localhost:8080/",
          "height": 122
        }
      },
      "source": [
        "\n",
        "from google.colab import drive\n",
        "drive.mount('/content/drive')"
      ],
      "execution_count": 6,
      "outputs": [
        {
          "output_type": "stream",
          "text": [
            "Go to this URL in a browser: https://accounts.google.com/o/oauth2/auth?client_id=947318989803-6bn6qk8qdgf4n4g3pfee6491hc0brc4i.apps.googleusercontent.com&redirect_uri=urn%3aietf%3awg%3aoauth%3a2.0%3aoob&response_type=code&scope=email%20https%3a%2f%2fwww.googleapis.com%2fauth%2fdocs.test%20https%3a%2f%2fwww.googleapis.com%2fauth%2fdrive%20https%3a%2f%2fwww.googleapis.com%2fauth%2fdrive.photos.readonly%20https%3a%2f%2fwww.googleapis.com%2fauth%2fpeopleapi.readonly\n",
            "\n",
            "Enter your authorization code:\n",
            "··········\n",
            "Mounted at /content/drive\n"
          ],
          "name": "stdout"
        }
      ]
    },
    {
      "cell_type": "code",
      "metadata": {
        "id": "6NjvoOUxRApt",
        "colab_type": "code",
        "colab": {}
      },
      "source": [
        "# read ICU IV start times:\n",
        "first_icuid_dict = pickle.load(open(\"/content/drive/My Drive/Colab Notebooks/data/IV_LOS24_adult_firstICU_dict.pkl\", \"rb\" ) )"
      ],
      "execution_count": 0,
      "outputs": []
    },
    {
      "cell_type": "code",
      "metadata": {
        "id": "5vBA3AjFR_22",
        "colab_type": "code",
        "outputId": "d4c10470-358c-4f38-8187-2e83914fbb24",
        "colab": {
          "base_uri": "https://localhost:8080/",
          "height": 34
        }
      },
      "source": [
        "len(first_icuid_dict.keys())"
      ],
      "execution_count": 8,
      "outputs": [
        {
          "output_type": "execute_result",
          "data": {
            "text/plain": [
              "38823"
            ]
          },
          "metadata": {
            "tags": []
          },
          "execution_count": 8
        }
      ]
    },
    {
      "cell_type": "code",
      "metadata": {
        "id": "OWan9OqOXpm2",
        "colab_type": "code",
        "outputId": "c8c47d57-3a89-4f48-e36e-219cec3e7f1b",
        "colab": {
          "base_uri": "https://localhost:8080/",
          "height": 34
        }
      },
      "source": [
        "# Were there any first ICU eps had start time missing? 0\n",
        "cn = 0\n",
        "for i in first_icuid_dict.keys():\n",
        "  first_ep = first_icuid_dict[i]['IV'][0]\n",
        "  if np.isnan(first_ep[0]):\n",
        "    cn += 1\n",
        "print(cn)"
      ],
      "execution_count": 0,
      "outputs": [
        {
          "output_type": "stream",
          "text": [
            "0\n"
          ],
          "name": "stdout"
        }
      ]
    },
    {
      "cell_type": "code",
      "metadata": {
        "id": "4MxZG168XvVR",
        "colab_type": "code",
        "outputId": "fc98d2d6-e9d7-4522-a337-e9d913581d00",
        "colab": {
          "base_uri": "https://localhost:8080/",
          "height": 34
        }
      },
      "source": [
        "# Were there any first ICU eps had end time missing? 8143\n",
        "cn = 0\n",
        "for i in first_icuid_dict.keys():\n",
        "  first_ep = first_icuid_dict[i]['IV'][0]\n",
        "  if np.isnan(first_ep[1]):\n",
        "    cn += 1\n",
        "print(cn)"
      ],
      "execution_count": 0,
      "outputs": [
        {
          "output_type": "stream",
          "text": [
            "8143\n"
          ],
          "name": "stdout"
        }
      ]
    },
    {
      "cell_type": "code",
      "metadata": {
        "id": "TncHVCP6SBPA",
        "colab_type": "code",
        "colab": {}
      },
      "source": [
        "# read PF values\n",
        "#both_p_f = pickle.load(open(\"/content/drive/My Drive/Colab Notebooks/data/both_p_f\", \"rb\" ) )\n",
        "#impute_p_f = pickle.load(open(\"/content/drive/My Drive/Colab Notebooks/data/impute_p_f\", \"rb\" ) )"
      ],
      "execution_count": 0,
      "outputs": []
    },
    {
      "cell_type": "code",
      "metadata": {
        "id": "gw8-rM-PdONe",
        "colab_type": "code",
        "outputId": "85c51946-f76d-48d0-f274-7acdab70f296",
        "colab": {
          "base_uri": "https://localhost:8080/",
          "height": 34
        }
      },
      "source": [
        "#both_p_f.patientunitstayid.nunique()"
      ],
      "execution_count": 0,
      "outputs": [
        {
          "output_type": "execute_result",
          "data": {
            "text/plain": [
              "6807"
            ]
          },
          "metadata": {
            "tags": []
          },
          "execution_count": 19
        }
      ]
    },
    {
      "cell_type": "markdown",
      "metadata": {
        "id": "Fj5BTy6aeMBQ",
        "colab_type": "text"
      },
      "source": [
        "## Compute PF-ratio"
      ]
    },
    {
      "cell_type": "code",
      "metadata": {
        "id": "ssTSEE63dlnA",
        "colab_type": "code",
        "colab": {}
      },
      "source": [
        "df_outcome = run_query(\"\"\"\n",
        "select patientunitstayid, chartoffset, fio2, pao2\n",
        "from `physionet-data.eicu_crd_derived.pivoted_bg` \n",
        "order by patientunitstayid, chartoffset\n",
        "\"\"\"\n",
        ")"
      ],
      "execution_count": 0,
      "outputs": []
    },
    {
      "cell_type": "code",
      "metadata": {
        "id": "ILRwxN_4fvIK",
        "colab_type": "code",
        "outputId": "a56985af-5593-4cc8-ac8e-a7d6f4e70fc9",
        "colab": {
          "base_uri": "https://localhost:8080/",
          "height": 204
        }
      },
      "source": [
        "df_outcome.head()"
      ],
      "execution_count": 10,
      "outputs": [
        {
          "output_type": "execute_result",
          "data": {
            "text/html": [
              "<div>\n",
              "<style scoped>\n",
              "    .dataframe tbody tr th:only-of-type {\n",
              "        vertical-align: middle;\n",
              "    }\n",
              "\n",
              "    .dataframe tbody tr th {\n",
              "        vertical-align: top;\n",
              "    }\n",
              "\n",
              "    .dataframe thead th {\n",
              "        text-align: right;\n",
              "    }\n",
              "</style>\n",
              "<table border=\"1\" class=\"dataframe\">\n",
              "  <thead>\n",
              "    <tr style=\"text-align: right;\">\n",
              "      <th></th>\n",
              "      <th>patientunitstayid</th>\n",
              "      <th>chartoffset</th>\n",
              "      <th>fio2</th>\n",
              "      <th>pao2</th>\n",
              "    </tr>\n",
              "  </thead>\n",
              "  <tbody>\n",
              "    <tr>\n",
              "      <th>0</th>\n",
              "      <td>141168</td>\n",
              "      <td>516</td>\n",
              "      <td>NaN</td>\n",
              "      <td>NaN</td>\n",
              "    </tr>\n",
              "    <tr>\n",
              "      <th>1</th>\n",
              "      <td>141168</td>\n",
              "      <td>1133</td>\n",
              "      <td>NaN</td>\n",
              "      <td>NaN</td>\n",
              "    </tr>\n",
              "    <tr>\n",
              "      <th>2</th>\n",
              "      <td>141168</td>\n",
              "      <td>1805</td>\n",
              "      <td>0.28</td>\n",
              "      <td>41.0</td>\n",
              "    </tr>\n",
              "    <tr>\n",
              "      <th>3</th>\n",
              "      <td>141168</td>\n",
              "      <td>2010</td>\n",
              "      <td>1.00</td>\n",
              "      <td>42.0</td>\n",
              "    </tr>\n",
              "    <tr>\n",
              "      <th>4</th>\n",
              "      <td>141168</td>\n",
              "      <td>2026</td>\n",
              "      <td>NaN</td>\n",
              "      <td>68.0</td>\n",
              "    </tr>\n",
              "  </tbody>\n",
              "</table>\n",
              "</div>"
            ],
            "text/plain": [
              "   patientunitstayid  chartoffset  fio2  pao2\n",
              "0             141168          516   NaN   NaN\n",
              "1             141168         1133   NaN   NaN\n",
              "2             141168         1805  0.28  41.0\n",
              "3             141168         2010  1.00  42.0\n",
              "4             141168         2026   NaN  68.0"
            ]
          },
          "metadata": {
            "tags": []
          },
          "execution_count": 10
        }
      ]
    },
    {
      "cell_type": "code",
      "metadata": {
        "id": "kT8Enj2gfvS8",
        "colab_type": "code",
        "colab": {}
      },
      "source": [
        "df_outcome_NL = df_outcome[df_outcome.pao2.notnull()].reset_index(drop=True)"
      ],
      "execution_count": 0,
      "outputs": []
    },
    {
      "cell_type": "code",
      "metadata": {
        "id": "rXETpigEfvb-",
        "colab_type": "code",
        "outputId": "94799640-9fac-4223-dd0c-8bb6d362c105",
        "colab": {
          "base_uri": "https://localhost:8080/",
          "height": 419
        }
      },
      "source": [
        "df_outcome_NL\n"
      ],
      "execution_count": 12,
      "outputs": [
        {
          "output_type": "execute_result",
          "data": {
            "text/html": [
              "<div>\n",
              "<style scoped>\n",
              "    .dataframe tbody tr th:only-of-type {\n",
              "        vertical-align: middle;\n",
              "    }\n",
              "\n",
              "    .dataframe tbody tr th {\n",
              "        vertical-align: top;\n",
              "    }\n",
              "\n",
              "    .dataframe thead th {\n",
              "        text-align: right;\n",
              "    }\n",
              "</style>\n",
              "<table border=\"1\" class=\"dataframe\">\n",
              "  <thead>\n",
              "    <tr style=\"text-align: right;\">\n",
              "      <th></th>\n",
              "      <th>patientunitstayid</th>\n",
              "      <th>chartoffset</th>\n",
              "      <th>fio2</th>\n",
              "      <th>pao2</th>\n",
              "    </tr>\n",
              "  </thead>\n",
              "  <tbody>\n",
              "    <tr>\n",
              "      <th>0</th>\n",
              "      <td>141168</td>\n",
              "      <td>1805</td>\n",
              "      <td>0.28</td>\n",
              "      <td>41.0</td>\n",
              "    </tr>\n",
              "    <tr>\n",
              "      <th>1</th>\n",
              "      <td>141168</td>\n",
              "      <td>2010</td>\n",
              "      <td>1.00</td>\n",
              "      <td>42.0</td>\n",
              "    </tr>\n",
              "    <tr>\n",
              "      <th>2</th>\n",
              "      <td>141168</td>\n",
              "      <td>2026</td>\n",
              "      <td>NaN</td>\n",
              "      <td>68.0</td>\n",
              "    </tr>\n",
              "    <tr>\n",
              "      <th>3</th>\n",
              "      <td>141168</td>\n",
              "      <td>2141</td>\n",
              "      <td>NaN</td>\n",
              "      <td>121.0</td>\n",
              "    </tr>\n",
              "    <tr>\n",
              "      <th>4</th>\n",
              "      <td>141194</td>\n",
              "      <td>2102</td>\n",
              "      <td>0.28</td>\n",
              "      <td>100.0</td>\n",
              "    </tr>\n",
              "    <tr>\n",
              "      <th>...</th>\n",
              "      <td>...</td>\n",
              "      <td>...</td>\n",
              "      <td>...</td>\n",
              "      <td>...</td>\n",
              "    </tr>\n",
              "    <tr>\n",
              "      <th>414345</th>\n",
              "      <td>3353251</td>\n",
              "      <td>4510</td>\n",
              "      <td>0.40</td>\n",
              "      <td>72.0</td>\n",
              "    </tr>\n",
              "    <tr>\n",
              "      <th>414346</th>\n",
              "      <td>3353251</td>\n",
              "      <td>5598</td>\n",
              "      <td>0.40</td>\n",
              "      <td>68.0</td>\n",
              "    </tr>\n",
              "    <tr>\n",
              "      <th>414347</th>\n",
              "      <td>3353251</td>\n",
              "      <td>9901</td>\n",
              "      <td>0.45</td>\n",
              "      <td>80.0</td>\n",
              "    </tr>\n",
              "    <tr>\n",
              "      <th>414348</th>\n",
              "      <td>3353251</td>\n",
              "      <td>11054</td>\n",
              "      <td>0.40</td>\n",
              "      <td>87.0</td>\n",
              "    </tr>\n",
              "    <tr>\n",
              "      <th>414349</th>\n",
              "      <td>3353254</td>\n",
              "      <td>4237</td>\n",
              "      <td>NaN</td>\n",
              "      <td>57.0</td>\n",
              "    </tr>\n",
              "  </tbody>\n",
              "</table>\n",
              "<p>414350 rows × 4 columns</p>\n",
              "</div>"
            ],
            "text/plain": [
              "        patientunitstayid  chartoffset  fio2   pao2\n",
              "0                  141168         1805  0.28   41.0\n",
              "1                  141168         2010  1.00   42.0\n",
              "2                  141168         2026   NaN   68.0\n",
              "3                  141168         2141   NaN  121.0\n",
              "4                  141194         2102  0.28  100.0\n",
              "...                   ...          ...   ...    ...\n",
              "414345            3353251         4510  0.40   72.0\n",
              "414346            3353251         5598  0.40   68.0\n",
              "414347            3353251         9901  0.45   80.0\n",
              "414348            3353251        11054  0.40   87.0\n",
              "414349            3353254         4237   NaN   57.0\n",
              "\n",
              "[414350 rows x 4 columns]"
            ]
          },
          "metadata": {
            "tags": []
          },
          "execution_count": 12
        }
      ]
    },
    {
      "cell_type": "code",
      "metadata": {
        "id": "MHSna8dEio19",
        "colab_type": "code",
        "colab": {}
      },
      "source": [
        "# fill forward fio2 values within each pts id.\n",
        "df_outcome_NL.fio2 = df_outcome_NL.groupby('patientunitstayid')['fio2'].ffill()"
      ],
      "execution_count": 0,
      "outputs": []
    },
    {
      "cell_type": "code",
      "metadata": {
        "id": "EpYJTndIio5k",
        "colab_type": "code",
        "outputId": "69846b62-3ba2-435e-d6cb-850686800cf4",
        "colab": {
          "base_uri": "https://localhost:8080/",
          "height": 419
        }
      },
      "source": [
        "df_outcome_NL"
      ],
      "execution_count": 14,
      "outputs": [
        {
          "output_type": "execute_result",
          "data": {
            "text/html": [
              "<div>\n",
              "<style scoped>\n",
              "    .dataframe tbody tr th:only-of-type {\n",
              "        vertical-align: middle;\n",
              "    }\n",
              "\n",
              "    .dataframe tbody tr th {\n",
              "        vertical-align: top;\n",
              "    }\n",
              "\n",
              "    .dataframe thead th {\n",
              "        text-align: right;\n",
              "    }\n",
              "</style>\n",
              "<table border=\"1\" class=\"dataframe\">\n",
              "  <thead>\n",
              "    <tr style=\"text-align: right;\">\n",
              "      <th></th>\n",
              "      <th>patientunitstayid</th>\n",
              "      <th>chartoffset</th>\n",
              "      <th>fio2</th>\n",
              "      <th>pao2</th>\n",
              "    </tr>\n",
              "  </thead>\n",
              "  <tbody>\n",
              "    <tr>\n",
              "      <th>0</th>\n",
              "      <td>141168</td>\n",
              "      <td>1805</td>\n",
              "      <td>0.28</td>\n",
              "      <td>41.0</td>\n",
              "    </tr>\n",
              "    <tr>\n",
              "      <th>1</th>\n",
              "      <td>141168</td>\n",
              "      <td>2010</td>\n",
              "      <td>1.00</td>\n",
              "      <td>42.0</td>\n",
              "    </tr>\n",
              "    <tr>\n",
              "      <th>2</th>\n",
              "      <td>141168</td>\n",
              "      <td>2026</td>\n",
              "      <td>1.00</td>\n",
              "      <td>68.0</td>\n",
              "    </tr>\n",
              "    <tr>\n",
              "      <th>3</th>\n",
              "      <td>141168</td>\n",
              "      <td>2141</td>\n",
              "      <td>1.00</td>\n",
              "      <td>121.0</td>\n",
              "    </tr>\n",
              "    <tr>\n",
              "      <th>4</th>\n",
              "      <td>141194</td>\n",
              "      <td>2102</td>\n",
              "      <td>0.28</td>\n",
              "      <td>100.0</td>\n",
              "    </tr>\n",
              "    <tr>\n",
              "      <th>...</th>\n",
              "      <td>...</td>\n",
              "      <td>...</td>\n",
              "      <td>...</td>\n",
              "      <td>...</td>\n",
              "    </tr>\n",
              "    <tr>\n",
              "      <th>414345</th>\n",
              "      <td>3353251</td>\n",
              "      <td>4510</td>\n",
              "      <td>0.40</td>\n",
              "      <td>72.0</td>\n",
              "    </tr>\n",
              "    <tr>\n",
              "      <th>414346</th>\n",
              "      <td>3353251</td>\n",
              "      <td>5598</td>\n",
              "      <td>0.40</td>\n",
              "      <td>68.0</td>\n",
              "    </tr>\n",
              "    <tr>\n",
              "      <th>414347</th>\n",
              "      <td>3353251</td>\n",
              "      <td>9901</td>\n",
              "      <td>0.45</td>\n",
              "      <td>80.0</td>\n",
              "    </tr>\n",
              "    <tr>\n",
              "      <th>414348</th>\n",
              "      <td>3353251</td>\n",
              "      <td>11054</td>\n",
              "      <td>0.40</td>\n",
              "      <td>87.0</td>\n",
              "    </tr>\n",
              "    <tr>\n",
              "      <th>414349</th>\n",
              "      <td>3353254</td>\n",
              "      <td>4237</td>\n",
              "      <td>NaN</td>\n",
              "      <td>57.0</td>\n",
              "    </tr>\n",
              "  </tbody>\n",
              "</table>\n",
              "<p>414350 rows × 4 columns</p>\n",
              "</div>"
            ],
            "text/plain": [
              "        patientunitstayid  chartoffset  fio2   pao2\n",
              "0                  141168         1805  0.28   41.0\n",
              "1                  141168         2010  1.00   42.0\n",
              "2                  141168         2026  1.00   68.0\n",
              "3                  141168         2141  1.00  121.0\n",
              "4                  141194         2102  0.28  100.0\n",
              "...                   ...          ...   ...    ...\n",
              "414345            3353251         4510  0.40   72.0\n",
              "414346            3353251         5598  0.40   68.0\n",
              "414347            3353251         9901  0.45   80.0\n",
              "414348            3353251        11054  0.40   87.0\n",
              "414349            3353254         4237   NaN   57.0\n",
              "\n",
              "[414350 rows x 4 columns]"
            ]
          },
          "metadata": {
            "tags": []
          },
          "execution_count": 14
        }
      ]
    },
    {
      "cell_type": "code",
      "metadata": {
        "id": "FYGLX3E6jVEY",
        "colab_type": "code",
        "colab": {}
      },
      "source": [
        "# now drop any rows with fio2 still null\n",
        "df_outcome_NL = df_outcome_NL[df_outcome_NL.fio2.notnull()]"
      ],
      "execution_count": 0,
      "outputs": []
    },
    {
      "cell_type": "code",
      "metadata": {
        "id": "0bv0x670jVHY",
        "colab_type": "code",
        "outputId": "a1012f11-8ee5-46d6-9862-f0bd52420456",
        "colab": {
          "base_uri": "https://localhost:8080/",
          "height": 419
        }
      },
      "source": [
        "df_outcome_NL"
      ],
      "execution_count": 16,
      "outputs": [
        {
          "output_type": "execute_result",
          "data": {
            "text/html": [
              "<div>\n",
              "<style scoped>\n",
              "    .dataframe tbody tr th:only-of-type {\n",
              "        vertical-align: middle;\n",
              "    }\n",
              "\n",
              "    .dataframe tbody tr th {\n",
              "        vertical-align: top;\n",
              "    }\n",
              "\n",
              "    .dataframe thead th {\n",
              "        text-align: right;\n",
              "    }\n",
              "</style>\n",
              "<table border=\"1\" class=\"dataframe\">\n",
              "  <thead>\n",
              "    <tr style=\"text-align: right;\">\n",
              "      <th></th>\n",
              "      <th>patientunitstayid</th>\n",
              "      <th>chartoffset</th>\n",
              "      <th>fio2</th>\n",
              "      <th>pao2</th>\n",
              "    </tr>\n",
              "  </thead>\n",
              "  <tbody>\n",
              "    <tr>\n",
              "      <th>0</th>\n",
              "      <td>141168</td>\n",
              "      <td>1805</td>\n",
              "      <td>0.28</td>\n",
              "      <td>41.0</td>\n",
              "    </tr>\n",
              "    <tr>\n",
              "      <th>1</th>\n",
              "      <td>141168</td>\n",
              "      <td>2010</td>\n",
              "      <td>1.00</td>\n",
              "      <td>42.0</td>\n",
              "    </tr>\n",
              "    <tr>\n",
              "      <th>2</th>\n",
              "      <td>141168</td>\n",
              "      <td>2026</td>\n",
              "      <td>1.00</td>\n",
              "      <td>68.0</td>\n",
              "    </tr>\n",
              "    <tr>\n",
              "      <th>3</th>\n",
              "      <td>141168</td>\n",
              "      <td>2141</td>\n",
              "      <td>1.00</td>\n",
              "      <td>121.0</td>\n",
              "    </tr>\n",
              "    <tr>\n",
              "      <th>4</th>\n",
              "      <td>141194</td>\n",
              "      <td>2102</td>\n",
              "      <td>0.28</td>\n",
              "      <td>100.0</td>\n",
              "    </tr>\n",
              "    <tr>\n",
              "      <th>...</th>\n",
              "      <td>...</td>\n",
              "      <td>...</td>\n",
              "      <td>...</td>\n",
              "      <td>...</td>\n",
              "    </tr>\n",
              "    <tr>\n",
              "      <th>414344</th>\n",
              "      <td>3353251</td>\n",
              "      <td>3864</td>\n",
              "      <td>0.40</td>\n",
              "      <td>73.0</td>\n",
              "    </tr>\n",
              "    <tr>\n",
              "      <th>414345</th>\n",
              "      <td>3353251</td>\n",
              "      <td>4510</td>\n",
              "      <td>0.40</td>\n",
              "      <td>72.0</td>\n",
              "    </tr>\n",
              "    <tr>\n",
              "      <th>414346</th>\n",
              "      <td>3353251</td>\n",
              "      <td>5598</td>\n",
              "      <td>0.40</td>\n",
              "      <td>68.0</td>\n",
              "    </tr>\n",
              "    <tr>\n",
              "      <th>414347</th>\n",
              "      <td>3353251</td>\n",
              "      <td>9901</td>\n",
              "      <td>0.45</td>\n",
              "      <td>80.0</td>\n",
              "    </tr>\n",
              "    <tr>\n",
              "      <th>414348</th>\n",
              "      <td>3353251</td>\n",
              "      <td>11054</td>\n",
              "      <td>0.40</td>\n",
              "      <td>87.0</td>\n",
              "    </tr>\n",
              "  </tbody>\n",
              "</table>\n",
              "<p>327629 rows × 4 columns</p>\n",
              "</div>"
            ],
            "text/plain": [
              "        patientunitstayid  chartoffset  fio2   pao2\n",
              "0                  141168         1805  0.28   41.0\n",
              "1                  141168         2010  1.00   42.0\n",
              "2                  141168         2026  1.00   68.0\n",
              "3                  141168         2141  1.00  121.0\n",
              "4                  141194         2102  0.28  100.0\n",
              "...                   ...          ...   ...    ...\n",
              "414344            3353251         3864  0.40   73.0\n",
              "414345            3353251         4510  0.40   72.0\n",
              "414346            3353251         5598  0.40   68.0\n",
              "414347            3353251         9901  0.45   80.0\n",
              "414348            3353251        11054  0.40   87.0\n",
              "\n",
              "[327629 rows x 4 columns]"
            ]
          },
          "metadata": {
            "tags": []
          },
          "execution_count": 16
        }
      ]
    },
    {
      "cell_type": "code",
      "metadata": {
        "id": "yjzkMSCMmga5",
        "colab_type": "code",
        "outputId": "bd2cf479-650c-45b0-9358-775e508d194c",
        "colab": {
          "base_uri": "https://localhost:8080/",
          "height": 170
        }
      },
      "source": [
        "df_outcome_NL.pao2.describe()"
      ],
      "execution_count": 17,
      "outputs": [
        {
          "output_type": "execute_result",
          "data": {
            "text/plain": [
              "count    327629.000000\n",
              "mean        120.640156\n",
              "std          82.043248\n",
              "min          15.000000\n",
              "25%          73.000000\n",
              "50%          93.000000\n",
              "75%         134.000000\n",
              "max         702.000000\n",
              "Name: pao2, dtype: float64"
            ]
          },
          "metadata": {
            "tags": []
          },
          "execution_count": 17
        }
      ]
    },
    {
      "cell_type": "code",
      "metadata": {
        "id": "kIt8Jw1DmPky",
        "colab_type": "code",
        "outputId": "f54d4faa-ed71-4fd4-9bba-10032665e548",
        "colab": {
          "base_uri": "https://localhost:8080/",
          "height": 221
        }
      },
      "source": [
        "# compute the PF-ratio:\n",
        "df_outcome_NL['pf_ratio'] = round(df_outcome_NL['pao2']/df_outcome_NL['fio2'],2)\n",
        "df_outcome_NL.loc[df_outcome_NL['pf_ratio']>1000,'pf_ratio']=1000.0"
      ],
      "execution_count": 18,
      "outputs": [
        {
          "output_type": "stream",
          "text": [
            "/usr/local/lib/python3.6/dist-packages/ipykernel_launcher.py:1: SettingWithCopyWarning: \n",
            "A value is trying to be set on a copy of a slice from a DataFrame.\n",
            "Try using .loc[row_indexer,col_indexer] = value instead\n",
            "\n",
            "See the caveats in the documentation: http://pandas.pydata.org/pandas-docs/stable/user_guide/indexing.html#returning-a-view-versus-a-copy\n",
            "  \"\"\"Entry point for launching an IPython kernel.\n",
            "/usr/local/lib/python3.6/dist-packages/pandas/core/indexing.py:494: SettingWithCopyWarning: \n",
            "A value is trying to be set on a copy of a slice from a DataFrame.\n",
            "Try using .loc[row_indexer,col_indexer] = value instead\n",
            "\n",
            "See the caveats in the documentation: http://pandas.pydata.org/pandas-docs/stable/user_guide/indexing.html#returning-a-view-versus-a-copy\n",
            "  self.obj[item] = s\n"
          ],
          "name": "stderr"
        }
      ]
    },
    {
      "cell_type": "code",
      "metadata": {
        "id": "u64aDrYymPnj",
        "colab_type": "code",
        "outputId": "1c194117-c751-4275-fa3b-263531add503",
        "colab": {
          "base_uri": "https://localhost:8080/",
          "height": 170
        }
      },
      "source": [
        "df_outcome_NL['pf_ratio'].describe()"
      ],
      "execution_count": 19,
      "outputs": [
        {
          "output_type": "execute_result",
          "data": {
            "text/plain": [
              "count    327629.000000\n",
              "mean        239.056291\n",
              "std         141.917658\n",
              "min          15.000000\n",
              "25%         141.670000\n",
              "50%         212.750000\n",
              "75%         307.000000\n",
              "max        1000.000000\n",
              "Name: pf_ratio, dtype: float64"
            ]
          },
          "metadata": {
            "tags": []
          },
          "execution_count": 19
        }
      ]
    },
    {
      "cell_type": "code",
      "metadata": {
        "id": "GS0Gh50xoUDY",
        "colab_type": "code",
        "outputId": "365c1a80-3c5e-46b4-8640-2639b64631c4",
        "colab": {
          "base_uri": "https://localhost:8080/",
          "height": 419
        }
      },
      "source": [
        "df_outcome_NL"
      ],
      "execution_count": 20,
      "outputs": [
        {
          "output_type": "execute_result",
          "data": {
            "text/html": [
              "<div>\n",
              "<style scoped>\n",
              "    .dataframe tbody tr th:only-of-type {\n",
              "        vertical-align: middle;\n",
              "    }\n",
              "\n",
              "    .dataframe tbody tr th {\n",
              "        vertical-align: top;\n",
              "    }\n",
              "\n",
              "    .dataframe thead th {\n",
              "        text-align: right;\n",
              "    }\n",
              "</style>\n",
              "<table border=\"1\" class=\"dataframe\">\n",
              "  <thead>\n",
              "    <tr style=\"text-align: right;\">\n",
              "      <th></th>\n",
              "      <th>patientunitstayid</th>\n",
              "      <th>chartoffset</th>\n",
              "      <th>fio2</th>\n",
              "      <th>pao2</th>\n",
              "      <th>pf_ratio</th>\n",
              "    </tr>\n",
              "  </thead>\n",
              "  <tbody>\n",
              "    <tr>\n",
              "      <th>0</th>\n",
              "      <td>141168</td>\n",
              "      <td>1805</td>\n",
              "      <td>0.28</td>\n",
              "      <td>41.0</td>\n",
              "      <td>146.43</td>\n",
              "    </tr>\n",
              "    <tr>\n",
              "      <th>1</th>\n",
              "      <td>141168</td>\n",
              "      <td>2010</td>\n",
              "      <td>1.00</td>\n",
              "      <td>42.0</td>\n",
              "      <td>42.00</td>\n",
              "    </tr>\n",
              "    <tr>\n",
              "      <th>2</th>\n",
              "      <td>141168</td>\n",
              "      <td>2026</td>\n",
              "      <td>1.00</td>\n",
              "      <td>68.0</td>\n",
              "      <td>68.00</td>\n",
              "    </tr>\n",
              "    <tr>\n",
              "      <th>3</th>\n",
              "      <td>141168</td>\n",
              "      <td>2141</td>\n",
              "      <td>1.00</td>\n",
              "      <td>121.0</td>\n",
              "      <td>121.00</td>\n",
              "    </tr>\n",
              "    <tr>\n",
              "      <th>4</th>\n",
              "      <td>141194</td>\n",
              "      <td>2102</td>\n",
              "      <td>0.28</td>\n",
              "      <td>100.0</td>\n",
              "      <td>357.14</td>\n",
              "    </tr>\n",
              "    <tr>\n",
              "      <th>...</th>\n",
              "      <td>...</td>\n",
              "      <td>...</td>\n",
              "      <td>...</td>\n",
              "      <td>...</td>\n",
              "      <td>...</td>\n",
              "    </tr>\n",
              "    <tr>\n",
              "      <th>414344</th>\n",
              "      <td>3353251</td>\n",
              "      <td>3864</td>\n",
              "      <td>0.40</td>\n",
              "      <td>73.0</td>\n",
              "      <td>182.50</td>\n",
              "    </tr>\n",
              "    <tr>\n",
              "      <th>414345</th>\n",
              "      <td>3353251</td>\n",
              "      <td>4510</td>\n",
              "      <td>0.40</td>\n",
              "      <td>72.0</td>\n",
              "      <td>180.00</td>\n",
              "    </tr>\n",
              "    <tr>\n",
              "      <th>414346</th>\n",
              "      <td>3353251</td>\n",
              "      <td>5598</td>\n",
              "      <td>0.40</td>\n",
              "      <td>68.0</td>\n",
              "      <td>170.00</td>\n",
              "    </tr>\n",
              "    <tr>\n",
              "      <th>414347</th>\n",
              "      <td>3353251</td>\n",
              "      <td>9901</td>\n",
              "      <td>0.45</td>\n",
              "      <td>80.0</td>\n",
              "      <td>177.78</td>\n",
              "    </tr>\n",
              "    <tr>\n",
              "      <th>414348</th>\n",
              "      <td>3353251</td>\n",
              "      <td>11054</td>\n",
              "      <td>0.40</td>\n",
              "      <td>87.0</td>\n",
              "      <td>217.50</td>\n",
              "    </tr>\n",
              "  </tbody>\n",
              "</table>\n",
              "<p>327629 rows × 5 columns</p>\n",
              "</div>"
            ],
            "text/plain": [
              "        patientunitstayid  chartoffset  fio2   pao2  pf_ratio\n",
              "0                  141168         1805  0.28   41.0    146.43\n",
              "1                  141168         2010  1.00   42.0     42.00\n",
              "2                  141168         2026  1.00   68.0     68.00\n",
              "3                  141168         2141  1.00  121.0    121.00\n",
              "4                  141194         2102  0.28  100.0    357.14\n",
              "...                   ...          ...   ...    ...       ...\n",
              "414344            3353251         3864  0.40   73.0    182.50\n",
              "414345            3353251         4510  0.40   72.0    180.00\n",
              "414346            3353251         5598  0.40   68.0    170.00\n",
              "414347            3353251         9901  0.45   80.0    177.78\n",
              "414348            3353251        11054  0.40   87.0    217.50\n",
              "\n",
              "[327629 rows x 5 columns]"
            ]
          },
          "metadata": {
            "tags": []
          },
          "execution_count": 20
        }
      ]
    },
    {
      "cell_type": "code",
      "metadata": {
        "id": "wtSUw_mC6Kq0",
        "colab_type": "code",
        "outputId": "ea8f18f6-3f92-43cf-8315-4c1380b085aa",
        "colab": {
          "base_uri": "https://localhost:8080/",
          "height": 170
        }
      },
      "source": [
        "(df_outcome_NL.chartoffset/60.0).describe()"
      ],
      "execution_count": 21,
      "outputs": [
        {
          "output_type": "execute_result",
          "data": {
            "text/plain": [
              "count    327629.000000\n",
              "mean         76.057297\n",
              "std        1405.238547\n",
              "min     -788659.500000\n",
              "25%           3.100000\n",
              "50%          26.933333\n",
              "75%         101.750000\n",
              "max        6802.616667\n",
              "Name: chartoffset, dtype: float64"
            ]
          },
          "metadata": {
            "tags": []
          },
          "execution_count": 21
        }
      ]
    },
    {
      "cell_type": "code",
      "metadata": {
        "id": "ZwSzGru_oUGL",
        "colab_type": "code",
        "outputId": "594aa972-065d-4c93-d077-f5c2a896810a",
        "colab": {
          "base_uri": "https://localhost:8080/",
          "height": 34
        }
      },
      "source": [
        "# no of icu stays in pf ratio dataset:\n",
        "df_outcome_NL.patientunitstayid.nunique()"
      ],
      "execution_count": 22,
      "outputs": [
        {
          "output_type": "execute_result",
          "data": {
            "text/plain": [
              "65643"
            ]
          },
          "metadata": {
            "tags": []
          },
          "execution_count": 22
        }
      ]
    },
    {
      "cell_type": "code",
      "metadata": {
        "id": "kB9vorNtZdhE",
        "colab_type": "code",
        "colab": {}
      },
      "source": [
        "# Pick the PF1 value close to IV start time:"
      ],
      "execution_count": 0,
      "outputs": []
    },
    {
      "cell_type": "code",
      "metadata": {
        "id": "WHkhF91YZdvp",
        "colab_type": "code",
        "colab": {}
      },
      "source": [
        "first_pf = pd.DataFrame()\n",
        "for icu_id in first_icuid_dict.keys():\n",
        "  MV_list = first_icuid_dict[icu_id]['IV']\n",
        "  first_MV_start = MV_list[0][0]\n",
        "  #MV_plus_24hr =   first_MV_start + 24.0 # watch period end time from the first MV\n",
        "\n",
        "  for MV_i in MV_list: # start from the begining \n",
        "      found_pf = 0 # set to 1 once we found a valid pf value\n",
        "\n",
        "        # read all PF-ratio values first\n",
        "      pf_both_df = df_outcome_NL[df_outcome_NL.patientunitstayid==icu_id].sort_values(by='chartoffset', ascending=True).reset_index(drop=True)\n",
        "      pf_both_df['chartoffset'] = pf_both_df['chartoffset']/60.0\n",
        "\n",
        "      for i,row in pf_both_df.iterrows():\n",
        "        if ((row['chartoffset']) <= MV_i[1]) & ((row['chartoffset']) >= MV_i[0]):\n",
        "          temp = pd.DataFrame({'patientunitstayid': [icu_id],'chartoffset_hrs':[row['chartoffset']], 'pf_ratio': [row['pf_ratio']]})\n",
        "          first_pf = pd.concat([first_pf, temp])\n",
        "          found_pf = 1\n",
        "          break \n",
        "\n",
        "      if found_pf==1: \n",
        "         break  "
      ],
      "execution_count": 0,
      "outputs": []
    },
    {
      "cell_type": "code",
      "metadata": {
        "id": "9N4xIzO8Zd7M",
        "colab_type": "code",
        "colab": {}
      },
      "source": [
        "def hypo_outcome(x):\n",
        "  if x<=100.0:\n",
        "    return 'severe'\n",
        "  elif (x>100) & (x<=200):\n",
        "    return 'moderate'\n",
        "  elif (x>200) & (x<=300):\n",
        "    return 'mild'\n",
        "  else:\n",
        "    return 'no hypoxemia'"
      ],
      "execution_count": 0,
      "outputs": []
    },
    {
      "cell_type": "code",
      "metadata": {
        "id": "vauKfWnfaX89",
        "colab_type": "code",
        "colab": {}
      },
      "source": [
        "first_pf['hyp_cat'] = first_pf.pf_ratio.apply(hypo_outcome)"
      ],
      "execution_count": 0,
      "outputs": []
    },
    {
      "cell_type": "code",
      "metadata": {
        "id": "DmqoiJ1QbqLp",
        "colab_type": "code",
        "colab": {
          "base_uri": "https://localhost:8080/",
          "height": 204
        },
        "outputId": "3d80addb-b639-4d27-fd12-e463bca9dda1"
      },
      "source": [
        "first_pf.head()"
      ],
      "execution_count": 27,
      "outputs": [
        {
          "output_type": "execute_result",
          "data": {
            "text/html": [
              "<div>\n",
              "<style scoped>\n",
              "    .dataframe tbody tr th:only-of-type {\n",
              "        vertical-align: middle;\n",
              "    }\n",
              "\n",
              "    .dataframe tbody tr th {\n",
              "        vertical-align: top;\n",
              "    }\n",
              "\n",
              "    .dataframe thead th {\n",
              "        text-align: right;\n",
              "    }\n",
              "</style>\n",
              "<table border=\"1\" class=\"dataframe\">\n",
              "  <thead>\n",
              "    <tr style=\"text-align: right;\">\n",
              "      <th></th>\n",
              "      <th>patientunitstayid</th>\n",
              "      <th>chartoffset_hrs</th>\n",
              "      <th>pf_ratio</th>\n",
              "      <th>hyp_cat</th>\n",
              "    </tr>\n",
              "  </thead>\n",
              "  <tbody>\n",
              "    <tr>\n",
              "      <th>0</th>\n",
              "      <td>141451</td>\n",
              "      <td>1.250000</td>\n",
              "      <td>161.00</td>\n",
              "      <td>moderate</td>\n",
              "    </tr>\n",
              "    <tr>\n",
              "      <th>0</th>\n",
              "      <td>141515</td>\n",
              "      <td>1.500000</td>\n",
              "      <td>283.00</td>\n",
              "      <td>mild</td>\n",
              "    </tr>\n",
              "    <tr>\n",
              "      <th>0</th>\n",
              "      <td>141806</td>\n",
              "      <td>1.416667</td>\n",
              "      <td>176.67</td>\n",
              "      <td>moderate</td>\n",
              "    </tr>\n",
              "    <tr>\n",
              "      <th>0</th>\n",
              "      <td>141844</td>\n",
              "      <td>0.983333</td>\n",
              "      <td>260.00</td>\n",
              "      <td>mild</td>\n",
              "    </tr>\n",
              "    <tr>\n",
              "      <th>0</th>\n",
              "      <td>141853</td>\n",
              "      <td>1.083333</td>\n",
              "      <td>198.33</td>\n",
              "      <td>moderate</td>\n",
              "    </tr>\n",
              "  </tbody>\n",
              "</table>\n",
              "</div>"
            ],
            "text/plain": [
              "   patientunitstayid  chartoffset_hrs  pf_ratio   hyp_cat\n",
              "0             141451         1.250000    161.00  moderate\n",
              "0             141515         1.500000    283.00      mild\n",
              "0             141806         1.416667    176.67  moderate\n",
              "0             141844         0.983333    260.00      mild\n",
              "0             141853         1.083333    198.33  moderate"
            ]
          },
          "metadata": {
            "tags": []
          },
          "execution_count": 27
        }
      ]
    },
    {
      "cell_type": "code",
      "metadata": {
        "id": "1Od9DihQbqSx",
        "colab_type": "code",
        "colab": {
          "base_uri": "https://localhost:8080/",
          "height": 34
        },
        "outputId": "f8fb63b9-22bc-4886-b179-3a0637133f6c"
      },
      "source": [
        "first_pf.patientunitstayid.nunique()"
      ],
      "execution_count": 28,
      "outputs": [
        {
          "output_type": "execute_result",
          "data": {
            "text/plain": [
              "22534"
            ]
          },
          "metadata": {
            "tags": []
          },
          "execution_count": 28
        }
      ]
    },
    {
      "cell_type": "code",
      "metadata": {
        "id": "v5ca-2T4b1V0",
        "colab_type": "code",
        "colab": {}
      },
      "source": [
        ""
      ],
      "execution_count": 0,
      "outputs": []
    },
    {
      "cell_type": "code",
      "metadata": {
        "id": "pf5OABSjb1gr",
        "colab_type": "code",
        "colab": {}
      },
      "source": [
        ""
      ],
      "execution_count": 0,
      "outputs": []
    },
    {
      "cell_type": "code",
      "metadata": {
        "id": "ge5xsbX1aYKf",
        "colab_type": "code",
        "colab": {}
      },
      "source": [
        ""
      ],
      "execution_count": 0,
      "outputs": []
    },
    {
      "cell_type": "code",
      "metadata": {
        "id": "qpXkZ__gWMQl",
        "colab_type": "code",
        "colab": {}
      },
      "source": [
        "# Pick the PF2 value close to PF1 time + 24hr for the patients in first_pf: "
      ],
      "execution_count": 0,
      "outputs": []
    },
    {
      "cell_type": "code",
      "metadata": {
        "id": "5a8Y2VXfcazj",
        "colab_type": "code",
        "colab": {}
      },
      "source": [
        "first24hr_pf = pd.DataFrame()\n",
        "for icu_id in first_pf.patientunitstayid.unique():\n",
        "  MV_list = first_icuid_dict[icu_id]['IV']\n",
        "  first_PF_time = first_pf.loc[first_pf.patientunitstayid==icu_id,'chartoffset_hrs'].values[0]\n",
        "  #print(first_PF_time)\n",
        "  MV_plus_24hr =   first_PF_time + 24.0 # watch period end time from the first MV\n",
        "\n",
        "  for MV_i in MV_list: # start from the begining \n",
        "      found_pf = 0 # set to 1 once we found a valid pf value\n",
        "\n",
        "      # read all PF-ratio values first\n",
        "      pf_both_df = df_outcome_NL[df_outcome_NL.patientunitstayid==icu_id].sort_values(by='chartoffset', ascending=True).reset_index(drop=True)\n",
        "      pf_both_df['chartoffset'] = pf_both_df['chartoffset']/60.0\n",
        "\n",
        "      for i,row in pf_both_df.iterrows():\n",
        "        if ((row['chartoffset']) <= MV_i[1]) & ((row['chartoffset']) >= max(MV_plus_24hr, MV_i[0])):\n",
        "          temp = pd.DataFrame({'patientunitstayid': [icu_id],'chartoffset_hrs':[row['chartoffset']], 'pf_ratio': [row['pf_ratio']]})\n",
        "          first24hr_pf = pd.concat([first24hr_pf, temp])\n",
        "          found_pf = 1\n",
        "          break \n",
        "\n",
        "      if found_pf==1: \n",
        "         break  "
      ],
      "execution_count": 0,
      "outputs": []
    },
    {
      "cell_type": "code",
      "metadata": {
        "id": "70-AE1yTeGFk",
        "colab_type": "code",
        "colab": {}
      },
      "source": [
        "first24hr_pf['hyp_cat'] = first24hr_pf.pf_ratio.apply(hypo_outcome)"
      ],
      "execution_count": 0,
      "outputs": []
    },
    {
      "cell_type": "code",
      "metadata": {
        "id": "VQtn8xNGdQMb",
        "colab_type": "code",
        "colab": {
          "base_uri": "https://localhost:8080/",
          "height": 204
        },
        "outputId": "963cce0e-f757-462a-dfb5-60b1e551e4ab"
      },
      "source": [
        "first24hr_pf.head()"
      ],
      "execution_count": 36,
      "outputs": [
        {
          "output_type": "execute_result",
          "data": {
            "text/html": [
              "<div>\n",
              "<style scoped>\n",
              "    .dataframe tbody tr th:only-of-type {\n",
              "        vertical-align: middle;\n",
              "    }\n",
              "\n",
              "    .dataframe tbody tr th {\n",
              "        vertical-align: top;\n",
              "    }\n",
              "\n",
              "    .dataframe thead th {\n",
              "        text-align: right;\n",
              "    }\n",
              "</style>\n",
              "<table border=\"1\" class=\"dataframe\">\n",
              "  <thead>\n",
              "    <tr style=\"text-align: right;\">\n",
              "      <th></th>\n",
              "      <th>patientunitstayid</th>\n",
              "      <th>chartoffset_hrs</th>\n",
              "      <th>pf_ratio</th>\n",
              "      <th>hyp_cat</th>\n",
              "    </tr>\n",
              "  </thead>\n",
              "  <tbody>\n",
              "    <tr>\n",
              "      <th>0</th>\n",
              "      <td>141515</td>\n",
              "      <td>33.166667</td>\n",
              "      <td>195.00</td>\n",
              "      <td>moderate</td>\n",
              "    </tr>\n",
              "    <tr>\n",
              "      <th>0</th>\n",
              "      <td>142173</td>\n",
              "      <td>41.633333</td>\n",
              "      <td>105.00</td>\n",
              "      <td>moderate</td>\n",
              "    </tr>\n",
              "    <tr>\n",
              "      <th>0</th>\n",
              "      <td>144173</td>\n",
              "      <td>32.016667</td>\n",
              "      <td>296.67</td>\n",
              "      <td>mild</td>\n",
              "    </tr>\n",
              "    <tr>\n",
              "      <th>0</th>\n",
              "      <td>144548</td>\n",
              "      <td>28.783333</td>\n",
              "      <td>176.00</td>\n",
              "      <td>moderate</td>\n",
              "    </tr>\n",
              "    <tr>\n",
              "      <th>0</th>\n",
              "      <td>144770</td>\n",
              "      <td>139.883333</td>\n",
              "      <td>218.00</td>\n",
              "      <td>mild</td>\n",
              "    </tr>\n",
              "  </tbody>\n",
              "</table>\n",
              "</div>"
            ],
            "text/plain": [
              "   patientunitstayid  chartoffset_hrs  pf_ratio   hyp_cat\n",
              "0             141515        33.166667    195.00  moderate\n",
              "0             142173        41.633333    105.00  moderate\n",
              "0             144173        32.016667    296.67      mild\n",
              "0             144548        28.783333    176.00  moderate\n",
              "0             144770       139.883333    218.00      mild"
            ]
          },
          "metadata": {
            "tags": []
          },
          "execution_count": 36
        }
      ]
    },
    {
      "cell_type": "code",
      "metadata": {
        "id": "YBFZESuk4q-8",
        "colab_type": "code",
        "outputId": "923e6a72-677c-4bdf-ca50-78bab6a01c95",
        "colab": {
          "base_uri": "https://localhost:8080/",
          "height": 34
        }
      },
      "source": [
        "first24hr_pf.patientunitstayid.nunique()"
      ],
      "execution_count": 37,
      "outputs": [
        {
          "output_type": "execute_result",
          "data": {
            "text/plain": [
              "9668"
            ]
          },
          "metadata": {
            "tags": []
          },
          "execution_count": 37
        }
      ]
    },
    {
      "cell_type": "code",
      "metadata": {
        "id": "mLhBcYzfMudz",
        "colab_type": "code",
        "colab": {
          "base_uri": "https://localhost:8080/",
          "height": 170
        },
        "outputId": "f1cc10f0-3409-4e72-f2fe-fbb95cf2b707"
      },
      "source": [
        "first24hr_pf.chartoffset_hrs.describe()"
      ],
      "execution_count": 38,
      "outputs": [
        {
          "output_type": "execute_result",
          "data": {
            "text/plain": [
              "count    9668.000000\n",
              "mean       57.908173\n",
              "std        56.158777\n",
              "min      -249.200000\n",
              "25%        33.350000\n",
              "50%        41.733333\n",
              "75%        62.354167\n",
              "max      1674.750000\n",
              "Name: chartoffset_hrs, dtype: float64"
            ]
          },
          "metadata": {
            "tags": []
          },
          "execution_count": 38
        }
      ]
    },
    {
      "cell_type": "code",
      "metadata": {
        "id": "C1KV1Fg0M6mz",
        "colab_type": "code",
        "colab": {
          "base_uri": "https://localhost:8080/",
          "height": 34
        },
        "outputId": "5d0c909d-54b1-4404-a6fa-e57e3b35cdc3"
      },
      "source": [
        "first24hr_pf[first24hr_pf.chartoffset_hrs<30].shape"
      ],
      "execution_count": 39,
      "outputs": [
        {
          "output_type": "execute_result",
          "data": {
            "text/plain": [
              "(1373, 4)"
            ]
          },
          "metadata": {
            "tags": []
          },
          "execution_count": 39
        }
      ]
    },
    {
      "cell_type": "code",
      "metadata": {
        "id": "UMb2VGOeti9j",
        "colab_type": "code",
        "colab": {}
      },
      "source": [
        "# sanity check  "
      ],
      "execution_count": 0,
      "outputs": []
    },
    {
      "cell_type": "code",
      "metadata": {
        "id": "up4b89CN7XRZ",
        "colab_type": "code",
        "outputId": "4d217588-3f93-49b0-adbf-6400625a507b",
        "colab": {
          "base_uri": "https://localhost:8080/",
          "height": 34
        }
      },
      "source": [
        "# Example 1:\n",
        "first_icuid_dict[141515]"
      ],
      "execution_count": 41,
      "outputs": [
        {
          "output_type": "execute_result",
          "data": {
            "text/plain": [
              "{'ICU Admit': [0], 'ICU Discharge': [148.03], 'IV': [(0.27, 148.03)]}"
            ]
          },
          "metadata": {
            "tags": []
          },
          "execution_count": 41
        }
      ]
    },
    {
      "cell_type": "code",
      "metadata": {
        "id": "j-JHQM69L2ks",
        "colab_type": "code",
        "colab": {
          "base_uri": "https://localhost:8080/",
          "height": 421
        },
        "outputId": "e5159d93-a2c6-4cac-bf8b-03696dab1652"
      },
      "source": [
        "df_outcome_NL[df_outcome_NL.patientunitstayid==141515]"
      ],
      "execution_count": 42,
      "outputs": [
        {
          "output_type": "execute_result",
          "data": {
            "text/html": [
              "<div>\n",
              "<style scoped>\n",
              "    .dataframe tbody tr th:only-of-type {\n",
              "        vertical-align: middle;\n",
              "    }\n",
              "\n",
              "    .dataframe tbody tr th {\n",
              "        vertical-align: top;\n",
              "    }\n",
              "\n",
              "    .dataframe thead th {\n",
              "        text-align: right;\n",
              "    }\n",
              "</style>\n",
              "<table border=\"1\" class=\"dataframe\">\n",
              "  <thead>\n",
              "    <tr style=\"text-align: right;\">\n",
              "      <th></th>\n",
              "      <th>patientunitstayid</th>\n",
              "      <th>chartoffset</th>\n",
              "      <th>fio2</th>\n",
              "      <th>pao2</th>\n",
              "      <th>pf_ratio</th>\n",
              "    </tr>\n",
              "  </thead>\n",
              "  <tbody>\n",
              "    <tr>\n",
              "      <th>100</th>\n",
              "      <td>141515</td>\n",
              "      <td>90</td>\n",
              "      <td>1.0</td>\n",
              "      <td>283.0</td>\n",
              "      <td>283.00</td>\n",
              "    </tr>\n",
              "    <tr>\n",
              "      <th>101</th>\n",
              "      <td>141515</td>\n",
              "      <td>200</td>\n",
              "      <td>0.5</td>\n",
              "      <td>55.0</td>\n",
              "      <td>110.00</td>\n",
              "    </tr>\n",
              "    <tr>\n",
              "      <th>102</th>\n",
              "      <td>141515</td>\n",
              "      <td>270</td>\n",
              "      <td>0.7</td>\n",
              "      <td>71.0</td>\n",
              "      <td>101.43</td>\n",
              "    </tr>\n",
              "    <tr>\n",
              "      <th>103</th>\n",
              "      <td>141515</td>\n",
              "      <td>425</td>\n",
              "      <td>0.7</td>\n",
              "      <td>85.0</td>\n",
              "      <td>121.43</td>\n",
              "    </tr>\n",
              "    <tr>\n",
              "      <th>104</th>\n",
              "      <td>141515</td>\n",
              "      <td>575</td>\n",
              "      <td>0.7</td>\n",
              "      <td>133.0</td>\n",
              "      <td>190.00</td>\n",
              "    </tr>\n",
              "    <tr>\n",
              "      <th>105</th>\n",
              "      <td>141515</td>\n",
              "      <td>1145</td>\n",
              "      <td>0.4</td>\n",
              "      <td>87.0</td>\n",
              "      <td>217.50</td>\n",
              "    </tr>\n",
              "    <tr>\n",
              "      <th>106</th>\n",
              "      <td>141515</td>\n",
              "      <td>1990</td>\n",
              "      <td>0.4</td>\n",
              "      <td>78.0</td>\n",
              "      <td>195.00</td>\n",
              "    </tr>\n",
              "    <tr>\n",
              "      <th>107</th>\n",
              "      <td>141515</td>\n",
              "      <td>2610</td>\n",
              "      <td>0.4</td>\n",
              "      <td>126.0</td>\n",
              "      <td>315.00</td>\n",
              "    </tr>\n",
              "    <tr>\n",
              "      <th>108</th>\n",
              "      <td>141515</td>\n",
              "      <td>4075</td>\n",
              "      <td>0.4</td>\n",
              "      <td>104.0</td>\n",
              "      <td>260.00</td>\n",
              "    </tr>\n",
              "    <tr>\n",
              "      <th>109</th>\n",
              "      <td>141515</td>\n",
              "      <td>5520</td>\n",
              "      <td>0.4</td>\n",
              "      <td>100.0</td>\n",
              "      <td>250.00</td>\n",
              "    </tr>\n",
              "    <tr>\n",
              "      <th>110</th>\n",
              "      <td>141515</td>\n",
              "      <td>5962</td>\n",
              "      <td>0.4</td>\n",
              "      <td>74.0</td>\n",
              "      <td>185.00</td>\n",
              "    </tr>\n",
              "    <tr>\n",
              "      <th>111</th>\n",
              "      <td>141515</td>\n",
              "      <td>6935</td>\n",
              "      <td>0.4</td>\n",
              "      <td>106.0</td>\n",
              "      <td>265.00</td>\n",
              "    </tr>\n",
              "  </tbody>\n",
              "</table>\n",
              "</div>"
            ],
            "text/plain": [
              "     patientunitstayid  chartoffset  fio2   pao2  pf_ratio\n",
              "100             141515           90   1.0  283.0    283.00\n",
              "101             141515          200   0.5   55.0    110.00\n",
              "102             141515          270   0.7   71.0    101.43\n",
              "103             141515          425   0.7   85.0    121.43\n",
              "104             141515          575   0.7  133.0    190.00\n",
              "105             141515         1145   0.4   87.0    217.50\n",
              "106             141515         1990   0.4   78.0    195.00\n",
              "107             141515         2610   0.4  126.0    315.00\n",
              "108             141515         4075   0.4  104.0    260.00\n",
              "109             141515         5520   0.4  100.0    250.00\n",
              "110             141515         5962   0.4   74.0    185.00\n",
              "111             141515         6935   0.4  106.0    265.00"
            ]
          },
          "metadata": {
            "tags": []
          },
          "execution_count": 42
        }
      ]
    },
    {
      "cell_type": "code",
      "metadata": {
        "id": "3WiOpn1qeXLd",
        "colab_type": "code",
        "colab": {
          "base_uri": "https://localhost:8080/",
          "height": 80
        },
        "outputId": "a1b72ed6-3ba3-4d5b-e812-e8f18bc5ed90"
      },
      "source": [
        "first24hr_pf[first24hr_pf.patientunitstayid==141515]"
      ],
      "execution_count": 43,
      "outputs": [
        {
          "output_type": "execute_result",
          "data": {
            "text/html": [
              "<div>\n",
              "<style scoped>\n",
              "    .dataframe tbody tr th:only-of-type {\n",
              "        vertical-align: middle;\n",
              "    }\n",
              "\n",
              "    .dataframe tbody tr th {\n",
              "        vertical-align: top;\n",
              "    }\n",
              "\n",
              "    .dataframe thead th {\n",
              "        text-align: right;\n",
              "    }\n",
              "</style>\n",
              "<table border=\"1\" class=\"dataframe\">\n",
              "  <thead>\n",
              "    <tr style=\"text-align: right;\">\n",
              "      <th></th>\n",
              "      <th>patientunitstayid</th>\n",
              "      <th>chartoffset_hrs</th>\n",
              "      <th>pf_ratio</th>\n",
              "      <th>hyp_cat</th>\n",
              "    </tr>\n",
              "  </thead>\n",
              "  <tbody>\n",
              "    <tr>\n",
              "      <th>0</th>\n",
              "      <td>141515</td>\n",
              "      <td>33.166667</td>\n",
              "      <td>195.0</td>\n",
              "      <td>moderate</td>\n",
              "    </tr>\n",
              "  </tbody>\n",
              "</table>\n",
              "</div>"
            ],
            "text/plain": [
              "   patientunitstayid  chartoffset_hrs  pf_ratio   hyp_cat\n",
              "0             141515        33.166667     195.0  moderate"
            ]
          },
          "metadata": {
            "tags": []
          },
          "execution_count": 43
        }
      ]
    },
    {
      "cell_type": "code",
      "metadata": {
        "id": "yW29p3gCeekJ",
        "colab_type": "code",
        "colab": {
          "base_uri": "https://localhost:8080/",
          "height": 80
        },
        "outputId": "c217ca24-666d-4d57-bf12-7a9874663e9f"
      },
      "source": [
        "first_pf[first_pf.patientunitstayid==141515]"
      ],
      "execution_count": 44,
      "outputs": [
        {
          "output_type": "execute_result",
          "data": {
            "text/html": [
              "<div>\n",
              "<style scoped>\n",
              "    .dataframe tbody tr th:only-of-type {\n",
              "        vertical-align: middle;\n",
              "    }\n",
              "\n",
              "    .dataframe tbody tr th {\n",
              "        vertical-align: top;\n",
              "    }\n",
              "\n",
              "    .dataframe thead th {\n",
              "        text-align: right;\n",
              "    }\n",
              "</style>\n",
              "<table border=\"1\" class=\"dataframe\">\n",
              "  <thead>\n",
              "    <tr style=\"text-align: right;\">\n",
              "      <th></th>\n",
              "      <th>patientunitstayid</th>\n",
              "      <th>chartoffset_hrs</th>\n",
              "      <th>pf_ratio</th>\n",
              "      <th>hyp_cat</th>\n",
              "    </tr>\n",
              "  </thead>\n",
              "  <tbody>\n",
              "    <tr>\n",
              "      <th>0</th>\n",
              "      <td>141515</td>\n",
              "      <td>1.5</td>\n",
              "      <td>283.0</td>\n",
              "      <td>mild</td>\n",
              "    </tr>\n",
              "  </tbody>\n",
              "</table>\n",
              "</div>"
            ],
            "text/plain": [
              "   patientunitstayid  chartoffset_hrs  pf_ratio hyp_cat\n",
              "0             141515              1.5     283.0    mild"
            ]
          },
          "metadata": {
            "tags": []
          },
          "execution_count": 44
        }
      ]
    },
    {
      "cell_type": "code",
      "metadata": {
        "id": "1eizp1qn8FYC",
        "colab_type": "code",
        "outputId": "195ba106-ffa9-4fe9-8d64-cd9e0c780c10",
        "colab": {
          "base_uri": "https://localhost:8080/",
          "height": 68
        }
      },
      "source": [
        "# Example 2:\n",
        "first_icuid_dict[142173]"
      ],
      "execution_count": 46,
      "outputs": [
        {
          "output_type": "execute_result",
          "data": {
            "text/plain": [
              "{'ICU Admit': [0],\n",
              " 'ICU Discharge': [622.22],\n",
              " 'IV': [(0.38, 604.6), (604.63, nan)]}"
            ]
          },
          "metadata": {
            "tags": []
          },
          "execution_count": 46
        }
      ]
    },
    {
      "cell_type": "code",
      "metadata": {
        "id": "PtdJbytk-l1Z",
        "colab_type": "code",
        "outputId": "1d4b821e-751b-4c8e-c9c6-6a3b72c60233",
        "colab": {
          "base_uri": "https://localhost:8080/",
          "height": 1000
        }
      },
      "source": [
        "df_outcome_NL[df_outcome_NL.patientunitstayid==142173]"
      ],
      "execution_count": 47,
      "outputs": [
        {
          "output_type": "execute_result",
          "data": {
            "text/html": [
              "<div>\n",
              "<style scoped>\n",
              "    .dataframe tbody tr th:only-of-type {\n",
              "        vertical-align: middle;\n",
              "    }\n",
              "\n",
              "    .dataframe tbody tr th {\n",
              "        vertical-align: top;\n",
              "    }\n",
              "\n",
              "    .dataframe thead th {\n",
              "        text-align: right;\n",
              "    }\n",
              "</style>\n",
              "<table border=\"1\" class=\"dataframe\">\n",
              "  <thead>\n",
              "    <tr style=\"text-align: right;\">\n",
              "      <th></th>\n",
              "      <th>patientunitstayid</th>\n",
              "      <th>chartoffset</th>\n",
              "      <th>fio2</th>\n",
              "      <th>pao2</th>\n",
              "      <th>pf_ratio</th>\n",
              "    </tr>\n",
              "  </thead>\n",
              "  <tbody>\n",
              "    <tr>\n",
              "      <th>316</th>\n",
              "      <td>142173</td>\n",
              "      <td>-166</td>\n",
              "      <td>0.40</td>\n",
              "      <td>90.0</td>\n",
              "      <td>225.00</td>\n",
              "    </tr>\n",
              "    <tr>\n",
              "      <th>317</th>\n",
              "      <td>142173</td>\n",
              "      <td>-56</td>\n",
              "      <td>1.00</td>\n",
              "      <td>131.0</td>\n",
              "      <td>131.00</td>\n",
              "    </tr>\n",
              "    <tr>\n",
              "      <th>318</th>\n",
              "      <td>142173</td>\n",
              "      <td>131</td>\n",
              "      <td>0.80</td>\n",
              "      <td>70.0</td>\n",
              "      <td>87.50</td>\n",
              "    </tr>\n",
              "    <tr>\n",
              "      <th>319</th>\n",
              "      <td>142173</td>\n",
              "      <td>711</td>\n",
              "      <td>0.80</td>\n",
              "      <td>69.0</td>\n",
              "      <td>86.25</td>\n",
              "    </tr>\n",
              "    <tr>\n",
              "      <th>320</th>\n",
              "      <td>142173</td>\n",
              "      <td>2498</td>\n",
              "      <td>0.80</td>\n",
              "      <td>84.0</td>\n",
              "      <td>105.00</td>\n",
              "    </tr>\n",
              "    <tr>\n",
              "      <th>321</th>\n",
              "      <td>142173</td>\n",
              "      <td>3079</td>\n",
              "      <td>0.80</td>\n",
              "      <td>102.0</td>\n",
              "      <td>127.50</td>\n",
              "    </tr>\n",
              "    <tr>\n",
              "      <th>322</th>\n",
              "      <td>142173</td>\n",
              "      <td>3619</td>\n",
              "      <td>0.55</td>\n",
              "      <td>87.0</td>\n",
              "      <td>158.18</td>\n",
              "    </tr>\n",
              "    <tr>\n",
              "      <th>323</th>\n",
              "      <td>142173</td>\n",
              "      <td>4939</td>\n",
              "      <td>0.55</td>\n",
              "      <td>80.0</td>\n",
              "      <td>145.45</td>\n",
              "    </tr>\n",
              "    <tr>\n",
              "      <th>324</th>\n",
              "      <td>142173</td>\n",
              "      <td>6404</td>\n",
              "      <td>0.50</td>\n",
              "      <td>82.0</td>\n",
              "      <td>164.00</td>\n",
              "    </tr>\n",
              "    <tr>\n",
              "      <th>325</th>\n",
              "      <td>142173</td>\n",
              "      <td>7771</td>\n",
              "      <td>0.50</td>\n",
              "      <td>60.0</td>\n",
              "      <td>120.00</td>\n",
              "    </tr>\n",
              "    <tr>\n",
              "      <th>326</th>\n",
              "      <td>142173</td>\n",
              "      <td>9289</td>\n",
              "      <td>0.70</td>\n",
              "      <td>75.0</td>\n",
              "      <td>107.14</td>\n",
              "    </tr>\n",
              "    <tr>\n",
              "      <th>327</th>\n",
              "      <td>142173</td>\n",
              "      <td>9984</td>\n",
              "      <td>0.70</td>\n",
              "      <td>72.0</td>\n",
              "      <td>102.86</td>\n",
              "    </tr>\n",
              "    <tr>\n",
              "      <th>328</th>\n",
              "      <td>142173</td>\n",
              "      <td>10315</td>\n",
              "      <td>0.70</td>\n",
              "      <td>75.0</td>\n",
              "      <td>107.14</td>\n",
              "    </tr>\n",
              "    <tr>\n",
              "      <th>329</th>\n",
              "      <td>142173</td>\n",
              "      <td>10789</td>\n",
              "      <td>0.70</td>\n",
              "      <td>76.0</td>\n",
              "      <td>108.57</td>\n",
              "    </tr>\n",
              "    <tr>\n",
              "      <th>330</th>\n",
              "      <td>142173</td>\n",
              "      <td>11159</td>\n",
              "      <td>0.70</td>\n",
              "      <td>65.0</td>\n",
              "      <td>92.86</td>\n",
              "    </tr>\n",
              "    <tr>\n",
              "      <th>331</th>\n",
              "      <td>142173</td>\n",
              "      <td>12159</td>\n",
              "      <td>0.70</td>\n",
              "      <td>67.0</td>\n",
              "      <td>95.71</td>\n",
              "    </tr>\n",
              "    <tr>\n",
              "      <th>332</th>\n",
              "      <td>142173</td>\n",
              "      <td>13654</td>\n",
              "      <td>0.70</td>\n",
              "      <td>73.0</td>\n",
              "      <td>104.29</td>\n",
              "    </tr>\n",
              "    <tr>\n",
              "      <th>333</th>\n",
              "      <td>142173</td>\n",
              "      <td>15019</td>\n",
              "      <td>0.70</td>\n",
              "      <td>72.0</td>\n",
              "      <td>102.86</td>\n",
              "    </tr>\n",
              "    <tr>\n",
              "      <th>334</th>\n",
              "      <td>142173</td>\n",
              "      <td>16527</td>\n",
              "      <td>0.70</td>\n",
              "      <td>57.0</td>\n",
              "      <td>81.43</td>\n",
              "    </tr>\n",
              "    <tr>\n",
              "      <th>335</th>\n",
              "      <td>142173</td>\n",
              "      <td>17945</td>\n",
              "      <td>0.70</td>\n",
              "      <td>76.0</td>\n",
              "      <td>108.57</td>\n",
              "    </tr>\n",
              "    <tr>\n",
              "      <th>336</th>\n",
              "      <td>142173</td>\n",
              "      <td>19726</td>\n",
              "      <td>0.60</td>\n",
              "      <td>71.0</td>\n",
              "      <td>118.33</td>\n",
              "    </tr>\n",
              "    <tr>\n",
              "      <th>337</th>\n",
              "      <td>142173</td>\n",
              "      <td>20849</td>\n",
              "      <td>0.55</td>\n",
              "      <td>92.0</td>\n",
              "      <td>167.27</td>\n",
              "    </tr>\n",
              "    <tr>\n",
              "      <th>338</th>\n",
              "      <td>142173</td>\n",
              "      <td>22275</td>\n",
              "      <td>0.55</td>\n",
              "      <td>72.0</td>\n",
              "      <td>130.91</td>\n",
              "    </tr>\n",
              "    <tr>\n",
              "      <th>339</th>\n",
              "      <td>142173</td>\n",
              "      <td>23649</td>\n",
              "      <td>0.55</td>\n",
              "      <td>71.0</td>\n",
              "      <td>129.09</td>\n",
              "    </tr>\n",
              "    <tr>\n",
              "      <th>340</th>\n",
              "      <td>142173</td>\n",
              "      <td>25056</td>\n",
              "      <td>0.55</td>\n",
              "      <td>66.0</td>\n",
              "      <td>120.00</td>\n",
              "    </tr>\n",
              "    <tr>\n",
              "      <th>341</th>\n",
              "      <td>142173</td>\n",
              "      <td>26603</td>\n",
              "      <td>0.60</td>\n",
              "      <td>81.0</td>\n",
              "      <td>135.00</td>\n",
              "    </tr>\n",
              "    <tr>\n",
              "      <th>342</th>\n",
              "      <td>142173</td>\n",
              "      <td>28049</td>\n",
              "      <td>0.50</td>\n",
              "      <td>78.0</td>\n",
              "      <td>156.00</td>\n",
              "    </tr>\n",
              "    <tr>\n",
              "      <th>343</th>\n",
              "      <td>142173</td>\n",
              "      <td>29484</td>\n",
              "      <td>0.50</td>\n",
              "      <td>71.0</td>\n",
              "      <td>142.00</td>\n",
              "    </tr>\n",
              "    <tr>\n",
              "      <th>344</th>\n",
              "      <td>142173</td>\n",
              "      <td>30913</td>\n",
              "      <td>0.40</td>\n",
              "      <td>81.0</td>\n",
              "      <td>202.50</td>\n",
              "    </tr>\n",
              "    <tr>\n",
              "      <th>345</th>\n",
              "      <td>142173</td>\n",
              "      <td>32358</td>\n",
              "      <td>0.40</td>\n",
              "      <td>81.0</td>\n",
              "      <td>202.50</td>\n",
              "    </tr>\n",
              "    <tr>\n",
              "      <th>346</th>\n",
              "      <td>142173</td>\n",
              "      <td>33789</td>\n",
              "      <td>0.40</td>\n",
              "      <td>65.0</td>\n",
              "      <td>162.50</td>\n",
              "    </tr>\n",
              "    <tr>\n",
              "      <th>347</th>\n",
              "      <td>142173</td>\n",
              "      <td>35477</td>\n",
              "      <td>0.40</td>\n",
              "      <td>74.0</td>\n",
              "      <td>185.00</td>\n",
              "    </tr>\n",
              "  </tbody>\n",
              "</table>\n",
              "</div>"
            ],
            "text/plain": [
              "     patientunitstayid  chartoffset  fio2   pao2  pf_ratio\n",
              "316             142173         -166  0.40   90.0    225.00\n",
              "317             142173          -56  1.00  131.0    131.00\n",
              "318             142173          131  0.80   70.0     87.50\n",
              "319             142173          711  0.80   69.0     86.25\n",
              "320             142173         2498  0.80   84.0    105.00\n",
              "321             142173         3079  0.80  102.0    127.50\n",
              "322             142173         3619  0.55   87.0    158.18\n",
              "323             142173         4939  0.55   80.0    145.45\n",
              "324             142173         6404  0.50   82.0    164.00\n",
              "325             142173         7771  0.50   60.0    120.00\n",
              "326             142173         9289  0.70   75.0    107.14\n",
              "327             142173         9984  0.70   72.0    102.86\n",
              "328             142173        10315  0.70   75.0    107.14\n",
              "329             142173        10789  0.70   76.0    108.57\n",
              "330             142173        11159  0.70   65.0     92.86\n",
              "331             142173        12159  0.70   67.0     95.71\n",
              "332             142173        13654  0.70   73.0    104.29\n",
              "333             142173        15019  0.70   72.0    102.86\n",
              "334             142173        16527  0.70   57.0     81.43\n",
              "335             142173        17945  0.70   76.0    108.57\n",
              "336             142173        19726  0.60   71.0    118.33\n",
              "337             142173        20849  0.55   92.0    167.27\n",
              "338             142173        22275  0.55   72.0    130.91\n",
              "339             142173        23649  0.55   71.0    129.09\n",
              "340             142173        25056  0.55   66.0    120.00\n",
              "341             142173        26603  0.60   81.0    135.00\n",
              "342             142173        28049  0.50   78.0    156.00\n",
              "343             142173        29484  0.50   71.0    142.00\n",
              "344             142173        30913  0.40   81.0    202.50\n",
              "345             142173        32358  0.40   81.0    202.50\n",
              "346             142173        33789  0.40   65.0    162.50\n",
              "347             142173        35477  0.40   74.0    185.00"
            ]
          },
          "metadata": {
            "tags": []
          },
          "execution_count": 47
        }
      ]
    },
    {
      "cell_type": "code",
      "metadata": {
        "id": "YKt6MkTJfLDn",
        "colab_type": "code",
        "colab": {
          "base_uri": "https://localhost:8080/",
          "height": 80
        },
        "outputId": "c955c54a-4e99-435e-ad75-f5d2f051e699"
      },
      "source": [
        "first24hr_pf[first24hr_pf.patientunitstayid==142173]"
      ],
      "execution_count": 48,
      "outputs": [
        {
          "output_type": "execute_result",
          "data": {
            "text/html": [
              "<div>\n",
              "<style scoped>\n",
              "    .dataframe tbody tr th:only-of-type {\n",
              "        vertical-align: middle;\n",
              "    }\n",
              "\n",
              "    .dataframe tbody tr th {\n",
              "        vertical-align: top;\n",
              "    }\n",
              "\n",
              "    .dataframe thead th {\n",
              "        text-align: right;\n",
              "    }\n",
              "</style>\n",
              "<table border=\"1\" class=\"dataframe\">\n",
              "  <thead>\n",
              "    <tr style=\"text-align: right;\">\n",
              "      <th></th>\n",
              "      <th>patientunitstayid</th>\n",
              "      <th>chartoffset_hrs</th>\n",
              "      <th>pf_ratio</th>\n",
              "      <th>hyp_cat</th>\n",
              "    </tr>\n",
              "  </thead>\n",
              "  <tbody>\n",
              "    <tr>\n",
              "      <th>0</th>\n",
              "      <td>142173</td>\n",
              "      <td>41.633333</td>\n",
              "      <td>105.0</td>\n",
              "      <td>moderate</td>\n",
              "    </tr>\n",
              "  </tbody>\n",
              "</table>\n",
              "</div>"
            ],
            "text/plain": [
              "   patientunitstayid  chartoffset_hrs  pf_ratio   hyp_cat\n",
              "0             142173        41.633333     105.0  moderate"
            ]
          },
          "metadata": {
            "tags": []
          },
          "execution_count": 48
        }
      ]
    },
    {
      "cell_type": "code",
      "metadata": {
        "id": "Y1po-OlDfLPu",
        "colab_type": "code",
        "colab": {
          "base_uri": "https://localhost:8080/",
          "height": 80
        },
        "outputId": "01d441db-37c8-4a79-b89a-c11e11f01b29"
      },
      "source": [
        "first_pf[first_pf.patientunitstayid==142173]"
      ],
      "execution_count": 49,
      "outputs": [
        {
          "output_type": "execute_result",
          "data": {
            "text/html": [
              "<div>\n",
              "<style scoped>\n",
              "    .dataframe tbody tr th:only-of-type {\n",
              "        vertical-align: middle;\n",
              "    }\n",
              "\n",
              "    .dataframe tbody tr th {\n",
              "        vertical-align: top;\n",
              "    }\n",
              "\n",
              "    .dataframe thead th {\n",
              "        text-align: right;\n",
              "    }\n",
              "</style>\n",
              "<table border=\"1\" class=\"dataframe\">\n",
              "  <thead>\n",
              "    <tr style=\"text-align: right;\">\n",
              "      <th></th>\n",
              "      <th>patientunitstayid</th>\n",
              "      <th>chartoffset_hrs</th>\n",
              "      <th>pf_ratio</th>\n",
              "      <th>hyp_cat</th>\n",
              "    </tr>\n",
              "  </thead>\n",
              "  <tbody>\n",
              "    <tr>\n",
              "      <th>0</th>\n",
              "      <td>142173</td>\n",
              "      <td>2.183333</td>\n",
              "      <td>87.5</td>\n",
              "      <td>severe</td>\n",
              "    </tr>\n",
              "  </tbody>\n",
              "</table>\n",
              "</div>"
            ],
            "text/plain": [
              "   patientunitstayid  chartoffset_hrs  pf_ratio hyp_cat\n",
              "0             142173         2.183333      87.5  severe"
            ]
          },
          "metadata": {
            "tags": []
          },
          "execution_count": 49
        }
      ]
    },
    {
      "cell_type": "code",
      "metadata": {
        "id": "AAqfgIFXfLbC",
        "colab_type": "code",
        "colab": {}
      },
      "source": [
        ""
      ],
      "execution_count": 0,
      "outputs": []
    },
    {
      "cell_type": "code",
      "metadata": {
        "id": "vl3sHtaRfLmZ",
        "colab_type": "code",
        "colab": {}
      },
      "source": [
        ""
      ],
      "execution_count": 0,
      "outputs": []
    },
    {
      "cell_type": "code",
      "metadata": {
        "id": "q5TbWi29107L",
        "colab_type": "code",
        "colab": {}
      },
      "source": [
        ""
      ],
      "execution_count": 0,
      "outputs": []
    },
    {
      "cell_type": "markdown",
      "metadata": {
        "id": "bnnGPlES5BJa",
        "colab_type": "text"
      },
      "source": [
        "###  Let's merge first dataframe (near IV start) with last dataframe(near 24hr time point):"
      ]
    },
    {
      "cell_type": "code",
      "metadata": {
        "id": "sVUHokle10-u",
        "colab_type": "code",
        "colab": {}
      },
      "source": [
        "first_pf.rename(columns={'chartoffset_hrs':'chartoffset_hrs_first','pf_ratio':'pf_ratio_first','hyp_cat':'hyp_cat_first'}, inplace=True)"
      ],
      "execution_count": 0,
      "outputs": []
    },
    {
      "cell_type": "code",
      "metadata": {
        "id": "PjGrYSQ-11DW",
        "colab_type": "code",
        "colab": {}
      },
      "source": [
        "first24hr_pf.rename(columns={'chartoffset_hrs':'chartoffset_hrs_last','pf_ratio':'pf_ratio_last','hyp_cat':'hyp_cat_last'}, inplace=True)"
      ],
      "execution_count": 0,
      "outputs": []
    },
    {
      "cell_type": "code",
      "metadata": {
        "id": "HpPsKoTV4YxU",
        "colab_type": "code",
        "colab": {}
      },
      "source": [
        "first_last_label = pd.merge(first_pf, first24hr_pf, how='inner',on='patientunitstayid')"
      ],
      "execution_count": 0,
      "outputs": []
    },
    {
      "cell_type": "code",
      "metadata": {
        "id": "HSRJI3IG4Y5A",
        "colab_type": "code",
        "outputId": "bae5faee-7c54-4143-a8c4-23e0363f78f8",
        "colab": {
          "base_uri": "https://localhost:8080/",
          "height": 204
        }
      },
      "source": [
        "first_last_label.head()"
      ],
      "execution_count": 56,
      "outputs": [
        {
          "output_type": "execute_result",
          "data": {
            "text/html": [
              "<div>\n",
              "<style scoped>\n",
              "    .dataframe tbody tr th:only-of-type {\n",
              "        vertical-align: middle;\n",
              "    }\n",
              "\n",
              "    .dataframe tbody tr th {\n",
              "        vertical-align: top;\n",
              "    }\n",
              "\n",
              "    .dataframe thead th {\n",
              "        text-align: right;\n",
              "    }\n",
              "</style>\n",
              "<table border=\"1\" class=\"dataframe\">\n",
              "  <thead>\n",
              "    <tr style=\"text-align: right;\">\n",
              "      <th></th>\n",
              "      <th>patientunitstayid</th>\n",
              "      <th>chartoffset_hrs_first</th>\n",
              "      <th>pf_ratio_first</th>\n",
              "      <th>hyp_cat_first</th>\n",
              "      <th>chartoffset_hrs_last</th>\n",
              "      <th>pf_ratio_last</th>\n",
              "      <th>hyp_cat_last</th>\n",
              "    </tr>\n",
              "  </thead>\n",
              "  <tbody>\n",
              "    <tr>\n",
              "      <th>0</th>\n",
              "      <td>141515</td>\n",
              "      <td>1.500000</td>\n",
              "      <td>283.0</td>\n",
              "      <td>mild</td>\n",
              "      <td>33.166667</td>\n",
              "      <td>195.00</td>\n",
              "      <td>moderate</td>\n",
              "    </tr>\n",
              "    <tr>\n",
              "      <th>1</th>\n",
              "      <td>142173</td>\n",
              "      <td>2.183333</td>\n",
              "      <td>87.5</td>\n",
              "      <td>severe</td>\n",
              "      <td>41.633333</td>\n",
              "      <td>105.00</td>\n",
              "      <td>moderate</td>\n",
              "    </tr>\n",
              "    <tr>\n",
              "      <th>2</th>\n",
              "      <td>144173</td>\n",
              "      <td>1.200000</td>\n",
              "      <td>92.0</td>\n",
              "      <td>severe</td>\n",
              "      <td>32.016667</td>\n",
              "      <td>296.67</td>\n",
              "      <td>mild</td>\n",
              "    </tr>\n",
              "    <tr>\n",
              "      <th>3</th>\n",
              "      <td>144548</td>\n",
              "      <td>0.983333</td>\n",
              "      <td>232.0</td>\n",
              "      <td>mild</td>\n",
              "      <td>28.783333</td>\n",
              "      <td>176.00</td>\n",
              "      <td>moderate</td>\n",
              "    </tr>\n",
              "    <tr>\n",
              "      <th>4</th>\n",
              "      <td>144770</td>\n",
              "      <td>26.200000</td>\n",
              "      <td>154.0</td>\n",
              "      <td>moderate</td>\n",
              "      <td>139.883333</td>\n",
              "      <td>218.00</td>\n",
              "      <td>mild</td>\n",
              "    </tr>\n",
              "  </tbody>\n",
              "</table>\n",
              "</div>"
            ],
            "text/plain": [
              "   patientunitstayid  chartoffset_hrs_first  pf_ratio_first hyp_cat_first  \\\n",
              "0             141515               1.500000           283.0          mild   \n",
              "1             142173               2.183333            87.5        severe   \n",
              "2             144173               1.200000            92.0        severe   \n",
              "3             144548               0.983333           232.0          mild   \n",
              "4             144770              26.200000           154.0      moderate   \n",
              "\n",
              "   chartoffset_hrs_last  pf_ratio_last hyp_cat_last  \n",
              "0             33.166667         195.00     moderate  \n",
              "1             41.633333         105.00     moderate  \n",
              "2             32.016667         296.67         mild  \n",
              "3             28.783333         176.00     moderate  \n",
              "4            139.883333         218.00         mild  "
            ]
          },
          "metadata": {
            "tags": []
          },
          "execution_count": 56
        }
      ]
    },
    {
      "cell_type": "code",
      "metadata": {
        "id": "QgQZ0K074Y9z",
        "colab_type": "code",
        "outputId": "b021a791-0ed7-42fb-e8ce-dff92542439b",
        "colab": {
          "base_uri": "https://localhost:8080/",
          "height": 34
        }
      },
      "source": [
        "first_last_label.patientunitstayid.nunique()"
      ],
      "execution_count": 57,
      "outputs": [
        {
          "output_type": "execute_result",
          "data": {
            "text/plain": [
              "9668"
            ]
          },
          "metadata": {
            "tags": []
          },
          "execution_count": 57
        }
      ]
    },
    {
      "cell_type": "code",
      "metadata": {
        "id": "u6k1AQjH4ZBp",
        "colab_type": "code",
        "colab": {}
      },
      "source": [
        "# compute the time gap between first PF and last PF within first 24hr in MV:\n",
        "first_last_label['time_gap'] = round(first_last_label.chartoffset_hrs_last - first_last_label.chartoffset_hrs_first,2)"
      ],
      "execution_count": 0,
      "outputs": []
    },
    {
      "cell_type": "code",
      "metadata": {
        "id": "ssWE8CKPF9LG",
        "colab_type": "code",
        "colab": {}
      },
      "source": [
        "# produce final label: worse (1), stable or better (0)"
      ],
      "execution_count": 0,
      "outputs": []
    },
    {
      "cell_type": "code",
      "metadata": {
        "id": "M1TXbSGoGFxX",
        "colab_type": "code",
        "colab": {}
      },
      "source": [
        "def worse_or_better(row):\n",
        "  if (row['hyp_cat_first'] == 'no hypoxemia') & ((row['hyp_cat_last']=='mild') | (row['hyp_cat_last']=='moderate') | (row['hyp_cat_last']=='severe')):\n",
        "    return 1\n",
        "  elif (row['hyp_cat_first'] == 'mild') & ((row['hyp_cat_last']=='moderate') | (row['hyp_cat_last']=='severe')):\n",
        "    return 1\n",
        "  elif (row['hyp_cat_first'] == 'moderate') & (row['hyp_cat_last']=='severe'):\n",
        "    return 1\n",
        "  else:\n",
        "    return 0"
      ],
      "execution_count": 0,
      "outputs": []
    },
    {
      "cell_type": "code",
      "metadata": {
        "id": "oR6K1O1BJpTp",
        "colab_type": "code",
        "colab": {}
      },
      "source": [
        "first_last_label['is_worse'] = first_last_label.apply(worse_or_better,axis=1)"
      ],
      "execution_count": 0,
      "outputs": []
    },
    {
      "cell_type": "code",
      "metadata": {
        "id": "2Y5JplQi5LJ_",
        "colab_type": "code",
        "outputId": "36fbaafe-6eef-4462-f41f-caa968fecab0",
        "colab": {
          "base_uri": "https://localhost:8080/",
          "height": 359
        }
      },
      "source": [
        "first_last_label.head(10)"
      ],
      "execution_count": 62,
      "outputs": [
        {
          "output_type": "execute_result",
          "data": {
            "text/html": [
              "<div>\n",
              "<style scoped>\n",
              "    .dataframe tbody tr th:only-of-type {\n",
              "        vertical-align: middle;\n",
              "    }\n",
              "\n",
              "    .dataframe tbody tr th {\n",
              "        vertical-align: top;\n",
              "    }\n",
              "\n",
              "    .dataframe thead th {\n",
              "        text-align: right;\n",
              "    }\n",
              "</style>\n",
              "<table border=\"1\" class=\"dataframe\">\n",
              "  <thead>\n",
              "    <tr style=\"text-align: right;\">\n",
              "      <th></th>\n",
              "      <th>patientunitstayid</th>\n",
              "      <th>chartoffset_hrs_first</th>\n",
              "      <th>pf_ratio_first</th>\n",
              "      <th>hyp_cat_first</th>\n",
              "      <th>chartoffset_hrs_last</th>\n",
              "      <th>pf_ratio_last</th>\n",
              "      <th>hyp_cat_last</th>\n",
              "      <th>time_gap</th>\n",
              "      <th>is_worse</th>\n",
              "    </tr>\n",
              "  </thead>\n",
              "  <tbody>\n",
              "    <tr>\n",
              "      <th>0</th>\n",
              "      <td>141515</td>\n",
              "      <td>1.500000</td>\n",
              "      <td>283.00</td>\n",
              "      <td>mild</td>\n",
              "      <td>33.166667</td>\n",
              "      <td>195.00</td>\n",
              "      <td>moderate</td>\n",
              "      <td>31.67</td>\n",
              "      <td>1</td>\n",
              "    </tr>\n",
              "    <tr>\n",
              "      <th>1</th>\n",
              "      <td>142173</td>\n",
              "      <td>2.183333</td>\n",
              "      <td>87.50</td>\n",
              "      <td>severe</td>\n",
              "      <td>41.633333</td>\n",
              "      <td>105.00</td>\n",
              "      <td>moderate</td>\n",
              "      <td>39.45</td>\n",
              "      <td>0</td>\n",
              "    </tr>\n",
              "    <tr>\n",
              "      <th>2</th>\n",
              "      <td>144173</td>\n",
              "      <td>1.200000</td>\n",
              "      <td>92.00</td>\n",
              "      <td>severe</td>\n",
              "      <td>32.016667</td>\n",
              "      <td>296.67</td>\n",
              "      <td>mild</td>\n",
              "      <td>30.82</td>\n",
              "      <td>0</td>\n",
              "    </tr>\n",
              "    <tr>\n",
              "      <th>3</th>\n",
              "      <td>144548</td>\n",
              "      <td>0.983333</td>\n",
              "      <td>232.00</td>\n",
              "      <td>mild</td>\n",
              "      <td>28.783333</td>\n",
              "      <td>176.00</td>\n",
              "      <td>moderate</td>\n",
              "      <td>27.80</td>\n",
              "      <td>1</td>\n",
              "    </tr>\n",
              "    <tr>\n",
              "      <th>4</th>\n",
              "      <td>144770</td>\n",
              "      <td>26.200000</td>\n",
              "      <td>154.00</td>\n",
              "      <td>moderate</td>\n",
              "      <td>139.883333</td>\n",
              "      <td>218.00</td>\n",
              "      <td>mild</td>\n",
              "      <td>113.68</td>\n",
              "      <td>0</td>\n",
              "    </tr>\n",
              "    <tr>\n",
              "      <th>5</th>\n",
              "      <td>144954</td>\n",
              "      <td>7.366667</td>\n",
              "      <td>76.00</td>\n",
              "      <td>severe</td>\n",
              "      <td>35.533333</td>\n",
              "      <td>160.00</td>\n",
              "      <td>moderate</td>\n",
              "      <td>28.17</td>\n",
              "      <td>0</td>\n",
              "    </tr>\n",
              "    <tr>\n",
              "      <th>6</th>\n",
              "      <td>145164</td>\n",
              "      <td>2.050000</td>\n",
              "      <td>318.33</td>\n",
              "      <td>no hypoxemia</td>\n",
              "      <td>29.883333</td>\n",
              "      <td>420.00</td>\n",
              "      <td>no hypoxemia</td>\n",
              "      <td>27.83</td>\n",
              "      <td>0</td>\n",
              "    </tr>\n",
              "    <tr>\n",
              "      <th>7</th>\n",
              "      <td>145715</td>\n",
              "      <td>26.233333</td>\n",
              "      <td>135.00</td>\n",
              "      <td>moderate</td>\n",
              "      <td>75.616667</td>\n",
              "      <td>124.00</td>\n",
              "      <td>moderate</td>\n",
              "      <td>49.38</td>\n",
              "      <td>0</td>\n",
              "    </tr>\n",
              "    <tr>\n",
              "      <th>8</th>\n",
              "      <td>145867</td>\n",
              "      <td>1.416667</td>\n",
              "      <td>135.00</td>\n",
              "      <td>moderate</td>\n",
              "      <td>33.000000</td>\n",
              "      <td>124.00</td>\n",
              "      <td>moderate</td>\n",
              "      <td>31.58</td>\n",
              "      <td>0</td>\n",
              "    </tr>\n",
              "    <tr>\n",
              "      <th>9</th>\n",
              "      <td>146349</td>\n",
              "      <td>17.200000</td>\n",
              "      <td>197.50</td>\n",
              "      <td>moderate</td>\n",
              "      <td>79.366667</td>\n",
              "      <td>317.50</td>\n",
              "      <td>no hypoxemia</td>\n",
              "      <td>62.17</td>\n",
              "      <td>0</td>\n",
              "    </tr>\n",
              "  </tbody>\n",
              "</table>\n",
              "</div>"
            ],
            "text/plain": [
              "   patientunitstayid  chartoffset_hrs_first  pf_ratio_first hyp_cat_first  \\\n",
              "0             141515               1.500000          283.00          mild   \n",
              "1             142173               2.183333           87.50        severe   \n",
              "2             144173               1.200000           92.00        severe   \n",
              "3             144548               0.983333          232.00          mild   \n",
              "4             144770              26.200000          154.00      moderate   \n",
              "5             144954               7.366667           76.00        severe   \n",
              "6             145164               2.050000          318.33  no hypoxemia   \n",
              "7             145715              26.233333          135.00      moderate   \n",
              "8             145867               1.416667          135.00      moderate   \n",
              "9             146349              17.200000          197.50      moderate   \n",
              "\n",
              "   chartoffset_hrs_last  pf_ratio_last  hyp_cat_last  time_gap  is_worse  \n",
              "0             33.166667         195.00      moderate     31.67         1  \n",
              "1             41.633333         105.00      moderate     39.45         0  \n",
              "2             32.016667         296.67          mild     30.82         0  \n",
              "3             28.783333         176.00      moderate     27.80         1  \n",
              "4            139.883333         218.00          mild    113.68         0  \n",
              "5             35.533333         160.00      moderate     28.17         0  \n",
              "6             29.883333         420.00  no hypoxemia     27.83         0  \n",
              "7             75.616667         124.00      moderate     49.38         0  \n",
              "8             33.000000         124.00      moderate     31.58         0  \n",
              "9             79.366667         317.50  no hypoxemia     62.17         0  "
            ]
          },
          "metadata": {
            "tags": []
          },
          "execution_count": 62
        }
      ]
    },
    {
      "cell_type": "code",
      "metadata": {
        "id": "cHRtPpz15LR_",
        "colab_type": "code",
        "outputId": "6dac4fea-ba16-4027-d691-f664943b655c",
        "colab": {
          "base_uri": "https://localhost:8080/",
          "height": 170
        }
      },
      "source": [
        "# let's drop samples if time gap<15hours:\n",
        "#first_last_label_gap = first_last_label[first_last_label.time_gap>=12]\n",
        "#first_last_label_gap.patientunitstayid.nunique()\n",
        "first_last_label.time_gap.describe()"
      ],
      "execution_count": 63,
      "outputs": [
        {
          "output_type": "execute_result",
          "data": {
            "text/plain": [
              "count    9668.000000\n",
              "mean       40.931001\n",
              "std        34.297411\n",
              "min        24.000000\n",
              "25%        26.900000\n",
              "50%        32.770000\n",
              "75%        43.120000\n",
              "max      1357.750000\n",
              "Name: time_gap, dtype: float64"
            ]
          },
          "metadata": {
            "tags": []
          },
          "execution_count": 63
        }
      ]
    },
    {
      "cell_type": "code",
      "metadata": {
        "id": "qwGInJ5coCbn",
        "colab_type": "code",
        "outputId": "b1eaa015-d594-4a91-9403-a7e406939812",
        "colab": {
          "base_uri": "https://localhost:8080/",
          "height": 102
        }
      },
      "source": [
        "first_last_label.hyp_cat_first.value_counts()"
      ],
      "execution_count": 64,
      "outputs": [
        {
          "output_type": "execute_result",
          "data": {
            "text/plain": [
              "moderate        3162\n",
              "no hypoxemia    2650\n",
              "mild            2532\n",
              "severe          1324\n",
              "Name: hyp_cat_first, dtype: int64"
            ]
          },
          "metadata": {
            "tags": []
          },
          "execution_count": 64
        }
      ]
    },
    {
      "cell_type": "code",
      "metadata": {
        "id": "stIErFh8mj_W",
        "colab_type": "code",
        "outputId": "a97dfd9e-1f96-4d1e-e9c8-ecf4dbe1c72e",
        "colab": {
          "base_uri": "https://localhost:8080/",
          "height": 504
        }
      },
      "source": [
        "# plot distribution of hypo category at first and last time points:\n",
        "# Near IV start:\n",
        "pl = first_last_label.hyp_cat_first.value_counts().sort_index().plot.pie(figsize=(8, 8), autopct='%1.1f%%',\\\n",
        "                                                     pctdistance=0.85, labeldistance=1.1, textprops={'fontsize': 20})\n",
        "pl.legend(prop={'size':14}, bbox_to_anchor=(1.0, 1.0))\n",
        "pl.set_title('Distribution of hypoxemia serverity level near MV start', fontdict={'fontsize': 20})\n",
        "pl.set_ylabel('')"
      ],
      "execution_count": 83,
      "outputs": [
        {
          "output_type": "execute_result",
          "data": {
            "text/plain": [
              "Text(0, 0.5, '')"
            ]
          },
          "metadata": {
            "tags": []
          },
          "execution_count": 83
        },
        {
          "output_type": "display_data",
          "data": {
            "image/png": "[encoded data removed]",
            "text/plain": [
              "<Figure size 576x576 with 1 Axes>"
            ]
          },
          "metadata": {
            "tags": []
          }
        }
      ]
    },
    {
      "cell_type": "code",
      "metadata": {
        "id": "oZosPa8DoU7J",
        "colab_type": "code",
        "outputId": "5c9d6068-6168-4763-883f-5cb1609bf115",
        "colab": {
          "base_uri": "https://localhost:8080/",
          "height": 102
        }
      },
      "source": [
        "# Near IV start+24h:\n",
        "first_last_label.hyp_cat_last.value_counts().sort_index()"
      ],
      "execution_count": 66,
      "outputs": [
        {
          "output_type": "execute_result",
          "data": {
            "text/plain": [
              "mild            3267\n",
              "moderate        3214\n",
              "no hypoxemia    2578\n",
              "severe           609\n",
              "Name: hyp_cat_last, dtype: int64"
            ]
          },
          "metadata": {
            "tags": []
          },
          "execution_count": 66
        }
      ]
    },
    {
      "cell_type": "code",
      "metadata": {
        "id": "VqG7sUAlnALm",
        "colab_type": "code",
        "outputId": "33fc8bf4-78f5-4cbe-8cbd-7d88701d9319",
        "colab": {
          "base_uri": "https://localhost:8080/",
          "height": 504
        }
      },
      "source": [
        "pl = first_last_label.hyp_cat_last.value_counts().sort_index().plot.pie(figsize=(8, 8), autopct='%1.1f%%',\\\n",
        "                                                     pctdistance=0.85, labeldistance=1.1, textprops={'fontsize': 20})\n",
        "pl.legend(prop={'size':14}, bbox_to_anchor=(1.0, 1.0))\n",
        "pl.set_title('Distribution of hypoxemia serverity level after 24h from the first P/F', fontdict={'fontsize': 20})\n",
        "pl.set_ylabel('')"
      ],
      "execution_count": 84,
      "outputs": [
        {
          "output_type": "execute_result",
          "data": {
            "text/plain": [
              "Text(0, 0.5, '')"
            ]
          },
          "metadata": {
            "tags": []
          },
          "execution_count": 84
        },
        {
          "output_type": "display_data",
          "data": {
            "image/png": "[encoded data removed]",
            "text/plain": [
              "<Figure size 576x576 with 1 Axes>"
            ]
          },
          "metadata": {
            "tags": []
          }
        }
      ]
    },
    {
      "cell_type": "code",
      "metadata": {
        "id": "wcksb3oQoQtH",
        "colab_type": "code",
        "outputId": "2439859d-80d1-44b8-e2d9-41efd70ed67d",
        "colab": {
          "base_uri": "https://localhost:8080/",
          "height": 68
        }
      },
      "source": [
        "# outcome distribution:\n",
        "first_last_label.is_worse.value_counts()"
      ],
      "execution_count": 70,
      "outputs": [
        {
          "output_type": "execute_result",
          "data": {
            "text/plain": [
              "0    7515\n",
              "1    2153\n",
              "Name: is_worse, dtype: int64"
            ]
          },
          "metadata": {
            "tags": []
          },
          "execution_count": 70
        }
      ]
    },
    {
      "cell_type": "code",
      "metadata": {
        "id": "QrAEc4_jPp2S",
        "colab_type": "code",
        "outputId": "116cfc35-ebfc-4fd2-f355-ae5c339728c9",
        "colab": {
          "base_uri": "https://localhost:8080/",
          "height": 483
        }
      },
      "source": [
        "# plot the hypoxemia level distribution\n",
        "pl = first_last_label.is_worse.value_counts().plot.pie(figsize=(8, 8), autopct='%1.0f%%',\\\n",
        "                                                     pctdistance=0.85, labeldistance=1.1, textprops={'fontsize': 20})\n",
        "pl.legend(['stable/better', 'worse'], prop={'size':14}, bbox_to_anchor=(1.0, 1.0))\n",
        "pl.set_ylabel('')"
      ],
      "execution_count": 71,
      "outputs": [
        {
          "output_type": "execute_result",
          "data": {
            "text/plain": [
              "Text(0, 0.5, '')"
            ]
          },
          "metadata": {
            "tags": []
          },
          "execution_count": 71
        },
        {
          "output_type": "display_data",
          "data": {
            "image/png": "[encoded data removed]",
            "text/plain": [
              "<Figure size 576x576 with 1 Axes>"
            ]
          },
          "metadata": {
            "tags": []
          }
        }
      ]
    },
    {
      "cell_type": "code",
      "metadata": {
        "id": "tP-dJQ-CPp5U",
        "colab_type": "code",
        "colab": {}
      },
      "source": [
        "first_last_label_gap.to_csv('hypoxemia_outcome_with_12hr_gap.csv')\n",
        "#files.download('hypoxemia_outcome_with_12hr_gap.csv')"
      ],
      "execution_count": 0,
      "outputs": []
    },
    {
      "cell_type": "code",
      "metadata": {
        "id": "Tx_xIfwKPp8w",
        "colab_type": "code",
        "colab": {}
      },
      "source": [
        ""
      ],
      "execution_count": 0,
      "outputs": []
    },
    {
      "cell_type": "code",
      "metadata": {
        "id": "M7nSj5yHZpWo",
        "colab_type": "code",
        "outputId": "2df5f3ad-fb3b-4545-ee4c-1381019b8cb0",
        "colab": {
          "base_uri": "https://localhost:8080/",
          "height": 328
        }
      },
      "source": [
        "first_last_label[first_last_label.chartoffset_hrs_last<0]"
      ],
      "execution_count": 72,
      "outputs": [
        {
          "output_type": "execute_result",
          "data": {
            "text/html": [
              "<div>\n",
              "<style scoped>\n",
              "    .dataframe tbody tr th:only-of-type {\n",
              "        vertical-align: middle;\n",
              "    }\n",
              "\n",
              "    .dataframe tbody tr th {\n",
              "        vertical-align: top;\n",
              "    }\n",
              "\n",
              "    .dataframe thead th {\n",
              "        text-align: right;\n",
              "    }\n",
              "</style>\n",
              "<table border=\"1\" class=\"dataframe\">\n",
              "  <thead>\n",
              "    <tr style=\"text-align: right;\">\n",
              "      <th></th>\n",
              "      <th>patientunitstayid</th>\n",
              "      <th>chartoffset_hrs_first</th>\n",
              "      <th>pf_ratio_first</th>\n",
              "      <th>hyp_cat_first</th>\n",
              "      <th>chartoffset_hrs_last</th>\n",
              "      <th>pf_ratio_last</th>\n",
              "      <th>hyp_cat_last</th>\n",
              "      <th>time_gap</th>\n",
              "      <th>is_worse</th>\n",
              "    </tr>\n",
              "  </thead>\n",
              "  <tbody>\n",
              "    <tr>\n",
              "      <th>1726</th>\n",
              "      <td>999150</td>\n",
              "      <td>-82.366667</td>\n",
              "      <td>178.57</td>\n",
              "      <td>moderate</td>\n",
              "      <td>-46.650000</td>\n",
              "      <td>264.00</td>\n",
              "      <td>mild</td>\n",
              "      <td>35.72</td>\n",
              "      <td>0</td>\n",
              "    </tr>\n",
              "    <tr>\n",
              "      <th>4592</th>\n",
              "      <td>2479203</td>\n",
              "      <td>-48.816667</td>\n",
              "      <td>85.50</td>\n",
              "      <td>severe</td>\n",
              "      <td>-20.183333</td>\n",
              "      <td>174.40</td>\n",
              "      <td>moderate</td>\n",
              "      <td>28.63</td>\n",
              "      <td>0</td>\n",
              "    </tr>\n",
              "    <tr>\n",
              "      <th>9138</th>\n",
              "      <td>1593789</td>\n",
              "      <td>-31.216667</td>\n",
              "      <td>75.79</td>\n",
              "      <td>severe</td>\n",
              "      <td>-5.600000</td>\n",
              "      <td>118.95</td>\n",
              "      <td>moderate</td>\n",
              "      <td>25.62</td>\n",
              "      <td>0</td>\n",
              "    </tr>\n",
              "    <tr>\n",
              "      <th>9353</th>\n",
              "      <td>3208898</td>\n",
              "      <td>-146.883333</td>\n",
              "      <td>38.00</td>\n",
              "      <td>severe</td>\n",
              "      <td>-119.833333</td>\n",
              "      <td>118.33</td>\n",
              "      <td>moderate</td>\n",
              "      <td>27.05</td>\n",
              "      <td>0</td>\n",
              "    </tr>\n",
              "    <tr>\n",
              "      <th>9356</th>\n",
              "      <td>3209249</td>\n",
              "      <td>-201.566667</td>\n",
              "      <td>280.00</td>\n",
              "      <td>mild</td>\n",
              "      <td>-177.016667</td>\n",
              "      <td>295.00</td>\n",
              "      <td>mild</td>\n",
              "      <td>24.55</td>\n",
              "      <td>0</td>\n",
              "    </tr>\n",
              "    <tr>\n",
              "      <th>9435</th>\n",
              "      <td>3222548</td>\n",
              "      <td>-277.533333</td>\n",
              "      <td>285.00</td>\n",
              "      <td>mild</td>\n",
              "      <td>-249.200000</td>\n",
              "      <td>347.50</td>\n",
              "      <td>no hypoxemia</td>\n",
              "      <td>28.33</td>\n",
              "      <td>0</td>\n",
              "    </tr>\n",
              "    <tr>\n",
              "      <th>9474</th>\n",
              "      <td>3230298</td>\n",
              "      <td>-46.416667</td>\n",
              "      <td>132.00</td>\n",
              "      <td>moderate</td>\n",
              "      <td>-14.416667</td>\n",
              "      <td>110.00</td>\n",
              "      <td>moderate</td>\n",
              "      <td>32.00</td>\n",
              "      <td>0</td>\n",
              "    </tr>\n",
              "    <tr>\n",
              "      <th>9496</th>\n",
              "      <td>3234211</td>\n",
              "      <td>-45.583333</td>\n",
              "      <td>146.00</td>\n",
              "      <td>moderate</td>\n",
              "      <td>-9.933333</td>\n",
              "      <td>126.00</td>\n",
              "      <td>moderate</td>\n",
              "      <td>35.65</td>\n",
              "      <td>0</td>\n",
              "    </tr>\n",
              "    <tr>\n",
              "      <th>9525</th>\n",
              "      <td>3238337</td>\n",
              "      <td>-32.416667</td>\n",
              "      <td>285.71</td>\n",
              "      <td>mild</td>\n",
              "      <td>-6.416667</td>\n",
              "      <td>220.00</td>\n",
              "      <td>mild</td>\n",
              "      <td>26.00</td>\n",
              "      <td>0</td>\n",
              "    </tr>\n",
              "  </tbody>\n",
              "</table>\n",
              "</div>"
            ],
            "text/plain": [
              "      patientunitstayid  chartoffset_hrs_first  pf_ratio_first hyp_cat_first  \\\n",
              "1726             999150             -82.366667          178.57      moderate   \n",
              "4592            2479203             -48.816667           85.50        severe   \n",
              "9138            1593789             -31.216667           75.79        severe   \n",
              "9353            3208898            -146.883333           38.00        severe   \n",
              "9356            3209249            -201.566667          280.00          mild   \n",
              "9435            3222548            -277.533333          285.00          mild   \n",
              "9474            3230298             -46.416667          132.00      moderate   \n",
              "9496            3234211             -45.583333          146.00      moderate   \n",
              "9525            3238337             -32.416667          285.71          mild   \n",
              "\n",
              "      chartoffset_hrs_last  pf_ratio_last  hyp_cat_last  time_gap  is_worse  \n",
              "1726            -46.650000         264.00          mild     35.72         0  \n",
              "4592            -20.183333         174.40      moderate     28.63         0  \n",
              "9138             -5.600000         118.95      moderate     25.62         0  \n",
              "9353           -119.833333         118.33      moderate     27.05         0  \n",
              "9356           -177.016667         295.00          mild     24.55         0  \n",
              "9435           -249.200000         347.50  no hypoxemia     28.33         0  \n",
              "9474            -14.416667         110.00      moderate     32.00         0  \n",
              "9496             -9.933333         126.00      moderate     35.65         0  \n",
              "9525             -6.416667         220.00          mild     26.00         0  "
            ]
          },
          "metadata": {
            "tags": []
          },
          "execution_count": 72
        }
      ]
    },
    {
      "cell_type": "code",
      "metadata": {
        "id": "gWfct3Zs5LZk",
        "colab_type": "code",
        "colab": {}
      },
      "source": [
        "\n",
        "no_PF_ids = set(first_icuid_dict.keys())-set(first_last_label.patientunitstayid) # no any PF values at all or PF after first PF value time is not available"
      ],
      "execution_count": 0,
      "outputs": []
    },
    {
      "cell_type": "code",
      "metadata": {
        "id": "QdS_8KzH6v25",
        "colab_type": "code",
        "outputId": "7a664711-d024-43eb-854c-2ae231d2dfa6",
        "colab": {
          "base_uri": "https://localhost:8080/",
          "height": 34
        }
      },
      "source": [
        "len(no_PF_ids)"
      ],
      "execution_count": 74,
      "outputs": [
        {
          "output_type": "execute_result",
          "data": {
            "text/plain": [
              "29155"
            ]
          },
          "metadata": {
            "tags": []
          },
          "execution_count": 74
        }
      ]
    },
    {
      "cell_type": "code",
      "metadata": {
        "id": "Rl6eOmGOVp8u",
        "colab_type": "code",
        "outputId": "2feaa994-4f4c-43a0-dcff-c0098c442dc8",
        "colab": {
          "base_uri": "https://localhost:8080/",
          "height": 1000
        }
      },
      "source": [
        "no_PF_ids"
      ],
      "execution_count": 75,
      "outputs": [
        {
          "output_type": "execute_result",
          "data": {
            "text/plain": [
              "{1572869,\n",
              " 262151,\n",
              " 1835016,\n",
              " 1572872,\n",
              " 1572877,\n",
              " 2228239,\n",
              " 655378,\n",
              " 2359321,\n",
              " 3145760,\n",
              " 3145763,\n",
              " 655413,\n",
              " 393272,\n",
              " 3014713,\n",
              " 1966141,\n",
              " 2883649,\n",
              " 3014725,\n",
              " 2097227,\n",
              " 1966157,\n",
              " 1048654,\n",
              " 2883665,\n",
              " 2752594,\n",
              " 1048668,\n",
              " 2490468,\n",
              " 2883685,\n",
              " 655460,\n",
              " 1572964,\n",
              " 2883688,\n",
              " 3014771,\n",
              " 3014778,\n",
              " 2097283,\n",
              " 917634,\n",
              " 2752650,\n",
              " 2228362,\n",
              " 3145868,\n",
              " 1573005,\n",
              " 1835155,\n",
              " 1179797,\n",
              " 1573027,\n",
              " 1835172,\n",
              " 1573028,\n",
              " 1573042,\n",
              " 3014838,\n",
              " 524473,\n",
              " 393404,\n",
              " 1048767,\n",
              " 2621632,\n",
              " 1573054,\n",
              " 1441993,\n",
              " 1704142,\n",
              " 3145940,\n",
              " 1704152,\n",
              " 2359516,\n",
              " 393438,\n",
              " 2883807,\n",
              " 1966303,\n",
              " 2883809,\n",
              " 786657,\n",
              " 524522,\n",
              " 1442027,\n",
              " 786673,\n",
              " 3145983,\n",
              " 1442048,\n",
              " 2752772,\n",
              " 2883850,\n",
              " 2228492,\n",
              " 1966350,\n",
              " 1179919,\n",
              " 2752783,\n",
              " 2883856,\n",
              " 1048851,\n",
              " 3014941,\n",
              " 393503,\n",
              " 524577,\n",
              " 786719,\n",
              " 2097448,\n",
              " 1048882,\n",
              " 2490682,\n",
              " 655675,\n",
              " 2490685,\n",
              " 2621758,\n",
              " 1966402,\n",
              " 1573196,\n",
              " 2359629,\n",
              " 1311054,\n",
              " 1048911,\n",
              " 2883919,\n",
              " 1835346,\n",
              " 3146068,\n",
              " 917858,\n",
              " 655719,\n",
              " 1573229,\n",
              " 3015025,\n",
              " 524660,\n",
              " 1048948,\n",
              " 2490743,\n",
              " 1180025,\n",
              " 1966459,\n",
              " 1573240,\n",
              " 1835390,\n",
              " 1180040,\n",
              " 1704329,\n",
              " 2228617,\n",
              " 1835405,\n",
              " 3015053,\n",
              " 2883984,\n",
              " 1966495,\n",
              " 2490783,\n",
              " 655789,\n",
              " 3146161,\n",
              " 3146167,\n",
              " 2228671,\n",
              " 2752960,\n",
              " 2752965,\n",
              " 1704390,\n",
              " 2097607,\n",
              " 2359763,\n",
              " 1966548,\n",
              " 1573336,\n",
              " 2884057,\n",
              " 1573342,\n",
              " 2490848,\n",
              " 3146211,\n",
              " 917999,\n",
              " 3146224,\n",
              " 524794,\n",
              " 3146235,\n",
              " 524799,\n",
              " 393738,\n",
              " 2228747,\n",
              " 1704460,\n",
              " 2490893,\n",
              " 3015193,\n",
              " 1704478,\n",
              " 655902,\n",
              " 1966630,\n",
              " 2359846,\n",
              " 2359848,\n",
              " 2097705,\n",
              " 1573416,\n",
              " 3146285,\n",
              " 1704501,\n",
              " 1704516,\n",
              " 1573448,\n",
              " 1704525,\n",
              " 3146317,\n",
              " 1573453,\n",
              " 2884178,\n",
              " 2753110,\n",
              " 1442391,\n",
              " 3146329,\n",
              " 3146331,\n",
              " 1442396,\n",
              " 918108,\n",
              " 1573466,\n",
              " 2753121,\n",
              " 2753130,\n",
              " 2228847,\n",
              " 2228849,\n",
              " 918128,\n",
              " 2622069,\n",
              " 787063,\n",
              " 393849,\n",
              " 1835647,\n",
              " 1573503,\n",
              " 1573507,\n",
              " 2884229,\n",
              " 2753156,\n",
              " 1049224,\n",
              " 1835657,\n",
              " 3015307,\n",
              " 3146382,\n",
              " 2097813,\n",
              " 1966742,\n",
              " 1311384,\n",
              " 3146393,\n",
              " 656025,\n",
              " 3146400,\n",
              " 1966754,\n",
              " 2753187,\n",
              " 2228904,\n",
              " 1442474,\n",
              " 2884266,\n",
              " 2884271,\n",
              " 2228915,\n",
              " 1704636,\n",
              " 1573566,\n",
              " 2228930,\n",
              " 262850,\n",
              " 656067,\n",
              " 1049286,\n",
              " 787147,\n",
              " 1573591,\n",
              " 1442523,\n",
              " 2753245,\n",
              " 2360030,\n",
              " 656095,\n",
              " 1573599,\n",
              " 3146476,\n",
              " 1573618,\n",
              " 1573620,\n",
              " 525046,\n",
              " 3146492,\n",
              " 1704707,\n",
              " 656132,\n",
              " 3146501,\n",
              " 1966856,\n",
              " 3015434,\n",
              " 3146506,\n",
              " 3146507,\n",
              " 1835791,\n",
              " 2360085,\n",
              " 2097942,\n",
              " 787226,\n",
              " 3015450,\n",
              " 2753308,\n",
              " 1049377,\n",
              " 3146530,\n",
              " 1704742,\n",
              " 1835817,\n",
              " 394030,\n",
              " 656183,\n",
              " 394042,\n",
              " 2884412,\n",
              " 2491203,\n",
              " 3146570,\n",
              " 2753355,\n",
              " 2884432,\n",
              " 787287,\n",
              " 1573723,\n",
              " 2753372,\n",
              " 3146597,\n",
              " 3146609,\n",
              " 2753394,\n",
              " 2884465,\n",
              " 3015543,\n",
              " 1704823,\n",
              " 1835897,\n",
              " 2360184,\n",
              " 2884477,\n",
              " 3015552,\n",
              " 2884487,\n",
              " 1442699,\n",
              " 3146636,\n",
              " 3015565,\n",
              " 787342,\n",
              " 2753422,\n",
              " 3146644,\n",
              " 656277,\n",
              " 1573785,\n",
              " 2491293,\n",
              " 2753438,\n",
              " 918429,\n",
              " 2884520,\n",
              " 2491308,\n",
              " 1180595,\n",
              " 2884535,\n",
              " 3146686,\n",
              " 3015615,\n",
              " 394179,\n",
              " 2622409,\n",
              " 787402,\n",
              " 1835980,\n",
              " 2884559,\n",
              " 1573851,\n",
              " 1704930,\n",
              " 1311715,\n",
              " 3015649,\n",
              " 263153,\n",
              " 3015665,\n",
              " 2098173,\n",
              " 525316,\n",
              " 1967112,\n",
              " 3015690,\n",
              " 2884621,\n",
              " 394259,\n",
              " 3146772,\n",
              " 2753556,\n",
              " 918547,\n",
              " 2753562,\n",
              " 1704988,\n",
              " 2491424,\n",
              " 1967140,\n",
              " 3015722,\n",
              " 1836083,\n",
              " 1573939,\n",
              " 1049655,\n",
              " 1705019,\n",
              " 3146817,\n",
              " 3146829,\n",
              " 525392,\n",
              " 2884695,\n",
              " 2884714,\n",
              " 1049709,\n",
              " 3146876,\n",
              " 3146879,\n",
              " 1442948,\n",
              " 656524,\n",
              " 3146892,\n",
              " 1049742,\n",
              " 2491534,\n",
              " 1836193,\n",
              " 3146913,\n",
              " 1574051,\n",
              " 1311908,\n",
              " 3146919,\n",
              " 525482,\n",
              " 2753717,\n",
              " 3146936,\n",
              " 2753725,\n",
              " 1574078,\n",
              " 2622659,\n",
              " 2753734,\n",
              " 3146953,\n",
              " 3146963,\n",
              " 3146964,\n",
              " 3015894,\n",
              " 3146970,\n",
              " 656603,\n",
              " 1574107,\n",
              " 2098403,\n",
              " 1574121,\n",
              " 3146987,\n",
              " 2491633,\n",
              " 2098420,\n",
              " 2753780,\n",
              " 1443065,\n",
              " 1049855,\n",
              " 2491648,\n",
              " 3147011,\n",
              " 3147016,\n",
              " 1574156,\n",
              " 1049876,\n",
              " 2491668,\n",
              " 1705238,\n",
              " 1180952,\n",
              " 3147040,\n",
              " 656672,\n",
              " 1574191,\n",
              " 2360626,\n",
              " 918837,\n",
              " 1705270,\n",
              " 787768,\n",
              " 1574203,\n",
              " 1049917,\n",
              " 656706,\n",
              " 2360643,\n",
              " 1049928,\n",
              " 3147081,\n",
              " 1836362,\n",
              " 525653,\n",
              " 525655,\n",
              " 1836394,\n",
              " 3147121,\n",
              " 2884980,\n",
              " 1705333,\n",
              " 2884989,\n",
              " 2360702,\n",
              " 918911,\n",
              " 3016069,\n",
              " 3147143,\n",
              " 263562,\n",
              " 2885008,\n",
              " 3147152,\n",
              " 3016083,\n",
              " 3016086,\n",
              " 918938,\n",
              " 1050015,\n",
              " 2885023,\n",
              " 2885026,\n",
              " 2491810,\n",
              " 2098608,\n",
              " 1574331,\n",
              " 1574333,\n",
              " 2885054,\n",
              " 2491843,\n",
              " 3147203,\n",
              " 1574341,\n",
              " 1181129,\n",
              " 1574351,\n",
              " 394711,\n",
              " 3147223,\n",
              " 394716,\n",
              " 1967584,\n",
              " 3147235,\n",
              " 3016164,\n",
              " 3147247,\n",
              " 2754032,\n",
              " 263662,\n",
              " 1181170,\n",
              " 2360823,\n",
              " 525819,\n",
              " 1836541,\n",
              " 1574397,\n",
              " 919040,\n",
              " 3016194,\n",
              " 2360838,\n",
              " 1574407,\n",
              " 2360844,\n",
              " 3016208,\n",
              " 2885147,\n",
              " 3016221,\n",
              " 1574430,\n",
              " 1443360,\n",
              " 1574432,\n",
              " 3147305,\n",
              " 2885172,\n",
              " 1705538,\n",
              " 2885192,\n",
              " 1967696,\n",
              " 1181276,\n",
              " 3016284,\n",
              " 656990,\n",
              " 2360935,\n",
              " 3016296,\n",
              " 2885226,\n",
              " 1443440,\n",
              " 1443443,\n",
              " 919156,\n",
              " 2754168,\n",
              " 1574528,\n",
              " 1574534,\n",
              " 1836685,\n",
              " 525969,\n",
              " 3016343,\n",
              " 3016352,\n",
              " 919208,\n",
              " 2623151,\n",
              " 2754225,\n",
              " 3147443,\n",
              " 526004,\n",
              " 1705662,\n",
              " 2885312,\n",
              " 657094,\n",
              " 788166,\n",
              " 657101,\n",
              " 2492109,\n",
              " 1967833,\n",
              " 1836763,\n",
              " 2885339,\n",
              " 3016412,\n",
              " 1574623,\n",
              " 2229988,\n",
              " 2098923,\n",
              " 788211,\n",
              " 3016450,\n",
              " 2754313,\n",
              " 1574666,\n",
              " 1050379,\n",
              " 395024,\n",
              " 3147552,\n",
              " 1836846,\n",
              " 1574705,\n",
              " 395059,\n",
              " 2230068,\n",
              " 1050428,\n",
              " 1574717,\n",
              " 1050443,\n",
              " 2099020,\n",
              " 919378,\n",
              " 1574754,\n",
              " 2885475,\n",
              " 1181540,\n",
              " 3147621,\n",
              " 657254,\n",
              " 919401,\n",
              " 788333,\n",
              " 1836912,\n",
              " 3016568,\n",
              " 2885500,\n",
              " 3016574,\n",
              " 2230147,\n",
              " 657290,\n",
              " 1705870,\n",
              " 3147665,\n",
              " 2885524,\n",
              " 395166,\n",
              " 2492327,\n",
              " 2885552,\n",
              " 1050546,\n",
              " 264124,\n",
              " 657346,\n",
              " 1050564,\n",
              " 1837002,\n",
              " 3016650,\n",
              " 526301,\n",
              " 395242,\n",
              " 395243,\n",
              " 1574894,\n",
              " 3016691,\n",
              " 1705971,\n",
              " 3147772,\n",
              " 3147776,\n",
              " 2754567,\n",
              " 1050648,\n",
              " 657432,\n",
              " 1574940,\n",
              " 788512,\n",
              " 1837096,\n",
              " 1574954,\n",
              " 395307,\n",
              " 1574956,\n",
              " 1050669,\n",
              " 1706030,\n",
              " 1574963,\n",
              " 2754618,\n",
              " 3016766,\n",
              " 526403,\n",
              " 3016771,\n",
              " 1574981,\n",
              " 919625,\n",
              " 2754634,\n",
              " 1968208,\n",
              " 1574993,\n",
              " 1837154,\n",
              " 1706085,\n",
              " 919655,\n",
              " 3016840,\n",
              " 3016846,\n",
              " 2754712,\n",
              " 919705,\n",
              " 1837212,\n",
              " 2623648,\n",
              " 1575076,\n",
              " 1050799,\n",
              " 1575090,\n",
              " 3147962,\n",
              " 395454,\n",
              " 1050819,\n",
              " 2885832,\n",
              " 1575114,\n",
              " 2230478,\n",
              " 1050833,\n",
              " 2754771,\n",
              " 3147988,\n",
              " 3016917,\n",
              " 3148005,\n",
              " 2885879,\n",
              " 2885883,\n",
              " 2754816,\n",
              " 1706243,\n",
              " 2754822,\n",
              " 3148045,\n",
              " 1050906,\n",
              " 657698,\n",
              " 1706288,\n",
              " 2492721,\n",
              " 1706294,\n",
              " 1050937,\n",
              " 919866,\n",
              " 1575225,\n",
              " 1444166,\n",
              " 3148109,\n",
              " 1575252,\n",
              " 3148118,\n",
              " 1575259,\n",
              " 264540,\n",
              " 1575263,\n",
              " 2754914,\n",
              " 1706340,\n",
              " 2885992,\n",
              " 2099560,\n",
              " 2885997,\n",
              " 2886005,\n",
              " 919925,\n",
              " 395643,\n",
              " 1706363,\n",
              " 788860,\n",
              " 2886015,\n",
              " 2754947,\n",
              " 1444231,\n",
              " 1837450,\n",
              " 3148171,\n",
              " 1706390,\n",
              " 788887,\n",
              " 1575322,\n",
              " 2886046,\n",
              " 2886048,\n",
              " 2754980,\n",
              " 395688,\n",
              " 395689,\n",
              " 1575341,\n",
              " 1444271,\n",
              " 1575348,\n",
              " 2886070,\n",
              " 1051067,\n",
              " 3017153,\n",
              " 1051075,\n",
              " 1837508,\n",
              " 1575365,\n",
              " 1837510,\n",
              " 3148237,\n",
              " 395726,\n",
              " 3148261,\n",
              " 2099690,\n",
              " 1968620,\n",
              " 1313273,\n",
              " 2755067,\n",
              " 3148284,\n",
              " 1575423,\n",
              " 1706497,\n",
              " 3017218,\n",
              " 264716,\n",
              " 1575437,\n",
              " 1051152,\n",
              " 1051156,\n",
              " 1051167,\n",
              " 1313324,\n",
              " 526900,\n",
              " 920120,\n",
              " 2361914,\n",
              " 1313343,\n",
              " 3148352,\n",
              " 1837638,\n",
              " 3148358,\n",
              " 1182291,\n",
              " 1575513,\n",
              " 1051228,\n",
              " 920157,\n",
              " 2755167,\n",
              " 395877,\n",
              " 2755173,\n",
              " 1444482,\n",
              " 526988,\n",
              " 3148445,\n",
              " 3148451,\n",
              " 3148452,\n",
              " 1051302,\n",
              " 3148456,\n",
              " 2493100,\n",
              " 3017401,\n",
              " 2493114,\n",
              " 1575611,\n",
              " 1051327,\n",
              " 2624192,\n",
              " 3148481,\n",
              " 1837764,\n",
              " 1182408,\n",
              " 2624218,\n",
              " 3148506,\n",
              " 1575648,\n",
              " 264935,\n",
              " 2886378,\n",
              " 1575658,\n",
              " 1182445,\n",
              " 264942,\n",
              " 1182449,\n",
              " 3017457,\n",
              " 1575667,\n",
              " 1051382,\n",
              " 2231033,\n",
              " 1051391,\n",
              " 527104,\n",
              " 527111,\n",
              " 2362120,\n",
              " 1051402,\n",
              " 2231053,\n",
              " 1706768,\n",
              " 2886419,\n",
              " 1575704,\n",
              " 1837855,\n",
              " 789280,\n",
              " 1706791,\n",
              " 1706792,\n",
              " 2886439,\n",
              " 1182505,\n",
              " 658220,\n",
              " 3017519,\n",
              " 658230,\n",
              " 1313593,\n",
              " 1182522,\n",
              " 3148613,\n",
              " 3148614,\n",
              " 2886472,\n",
              " 3148617,\n",
              " 396107,\n",
              " 1444688,\n",
              " 1575765,\n",
              " 3017558,\n",
              " 1444704,\n",
              " 3148640,\n",
              " 2100064,\n",
              " 1706858,\n",
              " 1051500,\n",
              " 1575793,\n",
              " 1575797,\n",
              " 1969015,\n",
              " 3148665,\n",
              " 1837947,\n",
              " 2231166,\n",
              " 3017599,\n",
              " 2755464,\n",
              " 658313,\n",
              " 920459,\n",
              " 527245,\n",
              " 2100111,\n",
              " 1051538,\n",
              " 3148695,\n",
              " 3017626,\n",
              " 2624412,\n",
              " 2755487,\n",
              " 2755489,\n",
              " 3148710,\n",
              " 1051560,\n",
              " 658350,\n",
              " 1051568,\n",
              " 1444787,\n",
              " 396212,\n",
              " 1838003,\n",
              " 2886586,\n",
              " 1051581,\n",
              " 3017664,\n",
              " 1051593,\n",
              " 1706954,\n",
              " 2886607,\n",
              " 1575886,\n",
              " 3017696,\n",
              " 3148770,\n",
              " 1575906,\n",
              " 3148773,\n",
              " 2624489,\n",
              " 2362357,\n",
              " 3017725,\n",
              " 1575955,\n",
              " 2886676,\n",
              " 2100261,\n",
              " 1575973,\n",
              " 3148842,\n",
              " 396338,\n",
              " 1182778,\n",
              " 1051707,\n",
              " 2362427,\n",
              " 1576007,\n",
              " 3017816,\n",
              " 396378,\n",
              " 2886748,\n",
              " 2362461,\n",
              " 396382,\n",
              " 3148898,\n",
              " 1838186,\n",
              " 789612,\n",
              " 789614,\n",
              " 2362480,\n",
              " 3148913,\n",
              " 789621,\n",
              " 1182843,\n",
              " 2493567,\n",
              " 1838210,\n",
              " 1707141,\n",
              " 789638,\n",
              " 2493575,\n",
              " 3148938,\n",
              " 1969290,\n",
              " 1838227,\n",
              " 2231444,\n",
              " 920723,\n",
              " 1576086,\n",
              " 3017878,\n",
              " 2886806,\n",
              " 2886811,\n",
              " 2886814,\n",
              " 920739,\n",
              " 265386,\n",
              " 1576106,\n",
              " 1707181,\n",
              " 2362543,\n",
              " 3148979,\n",
              " 1576130,\n",
              " 396486,\n",
              " 3148999,\n",
              " 1576142,\n",
              " 2755796,\n",
              " 3149014,\n",
              " 1707241,\n",
              " 1969390,\n",
              " 2886902,\n",
              " 3149047,\n",
              " 789760,\n",
              " 2362625,\n",
              " 2886913,\n",
              " 527619,\n",
              " 1707267,\n",
              " 1838349,\n",
              " 1445135,\n",
              " 2231573,\n",
              " 3149083,\n",
              " 3018012,\n",
              " 3149085,\n",
              " 1838367,\n",
              " 1314081,\n",
              " 2362659,\n",
              " 789796,\n",
              " 1183015,\n",
              " 1183018,\n",
              " 1576237,\n",
              " 1314095,\n",
              " 396595,\n",
              " 2886965,\n",
              " 1314102,\n",
              " 2755893,\n",
              " 1707326,\n",
              " 527680,\n",
              " 3018050,\n",
              " 2624842,\n",
              " 920908,\n",
              " 1576266,\n",
              " 789840,\n",
              " 2493777,\n",
              " 1051989,\n",
              " 3018079,\n",
              " 1576294,\n",
              " 2362733,\n",
              " 1183086,\n",
              " 3149165,\n",
              " 920941,\n",
              " 1838450,\n",
              " 1576305,\n",
              " 2362743,\n",
              " 2100612,\n",
              " 396685,\n",
              " 1576337,\n",
              " 1576345,\n",
              " 2100636,\n",
              " 2493852,\n",
              " 2493854,\n",
              " 1576349,\n",
              " 1576365,\n",
              " 1445297,\n",
              " 2887089,\n",
              " 2362807,\n",
              " 2887099,\n",
              " 2887101,\n",
              " 921026,\n",
              " 789961,\n",
              " 3149265,\n",
              " 1838548,\n",
              " 1052121,\n",
              " 2887130,\n",
              " 2100700,\n",
              " 1576414,\n",
              " 1707489,\n",
              " 2756075,\n",
              " 1052143,\n",
              " 1576431,\n",
              " 3018234,\n",
              " 3149308,\n",
              " 2100736,\n",
              " 3018241,\n",
              " 3149317,\n",
              " 1052169,\n",
              " 2756109,\n",
              " 3149326,\n",
              " 2100751,\n",
              " 1052184,\n",
              " 2756120,\n",
              " 2231837,\n",
              " 3149349,\n",
              " 1183270,\n",
              " 3149365,\n",
              " 1052214,\n",
              " 2887223,\n",
              " 921143,\n",
              " 3149372,\n",
              " 790081,\n",
              " 3018322,\n",
              " 527959,\n",
              " 2494042,\n",
              " 2362970,\n",
              " 1838688,\n",
              " 527971,\n",
              " 3018366,\n",
              " 1576578,\n",
              " 2100874,\n",
              " 2756236,\n",
              " 1052302,\n",
              " 2756239,\n",
              " 1838739,\n",
              " 2363028,\n",
              " 2363031,\n",
              " 790169,\n",
              " 3149475,\n",
              " 3149482,\n",
              " 1576617,\n",
              " 1838773,\n",
              " 1314486,\n",
              " 2887351,\n",
              " 3018423,\n",
              " 921280,\n",
              " 1052355,\n",
              " 2887364,\n",
              " 2887371,\n",
              " 3149517,\n",
              " 3149529,\n",
              " 2887386,\n",
              " 265947,\n",
              " 1576686,\n",
              " 2100974,\n",
              " 2887410,\n",
              " 3149555,\n",
              " 1838842,\n",
              " 3149573,\n",
              " 2363149,\n",
              " 1576719,\n",
              " 3149587,\n",
              " 2625304,\n",
              " 1576728,\n",
              " 1314586,\n",
              " 3149595,\n",
              " 3018524,\n",
              " 1576735,\n",
              " 1576738,\n",
              " 1183522,\n",
              " 1576739,\n",
              " 1576744,\n",
              " 3018536,\n",
              " 3149612,\n",
              " 2101037,\n",
              " 2756397,\n",
              " 921388,\n",
              " 397112,\n",
              " 1445694,\n",
              " 397127,\n",
              " 1576796,\n",
              " 266077,\n",
              " 1314654,\n",
              " 397153,\n",
              " 3018597,\n",
              " 3149670,\n",
              " 3149673,\n",
              " 1970031,\n",
              " 3149682,\n",
              " 1314676,\n",
              " 2887556,\n",
              " 266128,\n",
              " 1576851,\n",
              " 2756500,\n",
              " 921494,\n",
              " 2101147,\n",
              " 1576866,\n",
              " 2887594,\n",
              " 2887601,\n",
              " 2101170,\n",
              " 3149748,\n",
              " 3018684,\n",
              " 3149761,\n",
              " 2756548,\n",
              " 921542,\n",
              " 1576909,\n",
              " 2756562,\n",
              " 3018709,\n",
              " 1839061,\n",
              " 528351,\n",
              " 3018730,\n",
              " 2625518,\n",
              " 921587,\n",
              " 2887671,\n",
              " 2494457,\n",
              " 1576954,\n",
              " 3149821,\n",
              " 3149824,\n",
              " 1314819,\n",
              " 3149831,\n",
              " 1183752,\n",
              " 1314832,\n",
              " 2887710,\n",
              " 3018787,\n",
              " 266276,\n",
              " 2494502,\n",
              " 1576997,\n",
              " 659497,\n",
              " 1839151,\n",
              " 2887728,\n",
              " 1183798,\n",
              " 790595,\n",
              " 1970252,\n",
              " 3149903,\n",
              " 2494545,\n",
              " 2756689,\n",
              " 1183835,\n",
              " 3149921,\n",
              " 659555,\n",
              " 2363493,\n",
              " 1970278,\n",
              " 2756710,\n",
              " 3149928,\n",
              " 1052778,\n",
              " 1314922,\n",
              " 1708140,\n",
              " 1577070,\n",
              " 1708145,\n",
              " 659572,\n",
              " 2494587,\n",
              " 2363518,\n",
              " 1577087,\n",
              " 3149953,\n",
              " 1577091,\n",
              " 266375,\n",
              " 2232455,\n",
              " 1577100,\n",
              " 2494609,\n",
              " 266387,\n",
              " ...}"
            ]
          },
          "metadata": {
            "tags": []
          },
          "execution_count": 75
        }
      ]
    },
    {
      "cell_type": "code",
      "metadata": {
        "id": "h2e3XVlG6v7V",
        "colab_type": "code",
        "outputId": "e7d5aa91-2159-4022-fd09-f8acefdfb747",
        "colab": {
          "base_uri": "https://localhost:8080/",
          "height": 111
        }
      },
      "source": [
        "# Example:\n",
        "df_outcome_NL[df_outcome_NL.patientunitstayid==1970278]"
      ],
      "execution_count": 77,
      "outputs": [
        {
          "output_type": "execute_result",
          "data": {
            "text/html": [
              "<div>\n",
              "<style scoped>\n",
              "    .dataframe tbody tr th:only-of-type {\n",
              "        vertical-align: middle;\n",
              "    }\n",
              "\n",
              "    .dataframe tbody tr th {\n",
              "        vertical-align: top;\n",
              "    }\n",
              "\n",
              "    .dataframe thead th {\n",
              "        text-align: right;\n",
              "    }\n",
              "</style>\n",
              "<table border=\"1\" class=\"dataframe\">\n",
              "  <thead>\n",
              "    <tr style=\"text-align: right;\">\n",
              "      <th></th>\n",
              "      <th>patientunitstayid</th>\n",
              "      <th>chartoffset</th>\n",
              "      <th>fio2</th>\n",
              "      <th>pao2</th>\n",
              "      <th>pf_ratio</th>\n",
              "    </tr>\n",
              "  </thead>\n",
              "  <tbody>\n",
              "    <tr>\n",
              "      <th>257225</th>\n",
              "      <td>1970278</td>\n",
              "      <td>127</td>\n",
              "      <td>1.0</td>\n",
              "      <td>84.0</td>\n",
              "      <td>84.0</td>\n",
              "    </tr>\n",
              "    <tr>\n",
              "      <th>257226</th>\n",
              "      <td>1970278</td>\n",
              "      <td>725</td>\n",
              "      <td>0.5</td>\n",
              "      <td>76.0</td>\n",
              "      <td>152.0</td>\n",
              "    </tr>\n",
              "  </tbody>\n",
              "</table>\n",
              "</div>"
            ],
            "text/plain": [
              "        patientunitstayid  chartoffset  fio2  pao2  pf_ratio\n",
              "257225            1970278          127   1.0  84.0      84.0\n",
              "257226            1970278          725   0.5  76.0     152.0"
            ]
          },
          "metadata": {
            "tags": []
          },
          "execution_count": 77
        }
      ]
    },
    {
      "cell_type": "code",
      "metadata": {
        "id": "btEV6Gnl6v-4",
        "colab_type": "code",
        "outputId": "f644cd45-6bf8-453d-b935-620d073ba2cc",
        "colab": {
          "base_uri": "https://localhost:8080/",
          "height": 34
        }
      },
      "source": [
        "first_icuid_dict[1970278]"
      ],
      "execution_count": 78,
      "outputs": [
        {
          "output_type": "execute_result",
          "data": {
            "text/plain": [
              "{'ICU Admit': [0], 'ICU Discharge': [52.37], 'IV': [(1.38, 23.3)]}"
            ]
          },
          "metadata": {
            "tags": []
          },
          "execution_count": 78
        }
      ]
    },
    {
      "cell_type": "code",
      "metadata": {
        "id": "49yc7JY_arfU",
        "colab_type": "code",
        "outputId": "b3fc4cfb-d731-441a-bd3e-fb6334d6b684",
        "colab": {
          "base_uri": "https://localhost:8080/",
          "height": 34
        }
      },
      "source": [
        "# Example:\n",
        "first_icuid_dict[2752960]"
      ],
      "execution_count": 79,
      "outputs": [
        {
          "output_type": "execute_result",
          "data": {
            "text/plain": [
              "{'ICU Admit': [0], 'ICU Discharge': [81.4], 'IV': [(0.35, 53.28)]}"
            ]
          },
          "metadata": {
            "tags": []
          },
          "execution_count": 79
        }
      ]
    },
    {
      "cell_type": "code",
      "metadata": {
        "id": "_Zyjsek7B6YR",
        "colab_type": "code",
        "outputId": "9eb745eb-f232-4331-c16b-b33e02a9fbfa",
        "colab": {
          "base_uri": "https://localhost:8080/",
          "height": 49
        }
      },
      "source": [
        "df_outcome_NL[df_outcome_NL.patientunitstayid==2752960]\n"
      ],
      "execution_count": 82,
      "outputs": [
        {
          "output_type": "execute_result",
          "data": {
            "text/html": [
              "<div>\n",
              "<style scoped>\n",
              "    .dataframe tbody tr th:only-of-type {\n",
              "        vertical-align: middle;\n",
              "    }\n",
              "\n",
              "    .dataframe tbody tr th {\n",
              "        vertical-align: top;\n",
              "    }\n",
              "\n",
              "    .dataframe thead th {\n",
              "        text-align: right;\n",
              "    }\n",
              "</style>\n",
              "<table border=\"1\" class=\"dataframe\">\n",
              "  <thead>\n",
              "    <tr style=\"text-align: right;\">\n",
              "      <th></th>\n",
              "      <th>patientunitstayid</th>\n",
              "      <th>chartoffset</th>\n",
              "      <th>fio2</th>\n",
              "      <th>pao2</th>\n",
              "      <th>pf_ratio</th>\n",
              "    </tr>\n",
              "  </thead>\n",
              "  <tbody>\n",
              "  </tbody>\n",
              "</table>\n",
              "</div>"
            ],
            "text/plain": [
              "Empty DataFrame\n",
              "Columns: [patientunitstayid, chartoffset, fio2, pao2, pf_ratio]\n",
              "Index: []"
            ]
          },
          "metadata": {
            "tags": []
          },
          "execution_count": 82
        }
      ]
    },
    {
      "cell_type": "code",
      "metadata": {
        "id": "oPck100_gFH9",
        "colab_type": "code",
        "colab": {}
      },
      "source": [
        ""
      ],
      "execution_count": 0,
      "outputs": []
    }
  ]
}